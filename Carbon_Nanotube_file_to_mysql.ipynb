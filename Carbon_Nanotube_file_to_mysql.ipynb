{
 "cells": [
  {
   "cell_type": "code",
   "execution_count": 19,
   "metadata": {},
   "outputs": [],
   "source": [
    "import mysql.connector as connection\n",
    "import csv\n",
    "class InsertFileToMysql:\n",
    "    \n",
    "    def __init__(self ,dbName,tableName, sourceFile, destFile):\n",
    "        self.sourceFile = sourceFile\n",
    "        self.destFile = destFile\n",
    "        self.dbName=dbName\n",
    "        self.tableName=tableName\n",
    "        \n",
    "    def cleanData(self):\n",
    "        file_in_list=[]\n",
    "        with open(self.sourceFile,'r') as file:\n",
    "            data=csv.reader(file,delimiter=\"\\n\")\n",
    "            for i in data:\n",
    "                file_in_list.append(i[0].split(';'))\n",
    "        \n",
    "        with open(self.destFile,'w',newline='')as data:\n",
    "            writer=csv.writer(data)\n",
    "            writer.writerows(file_in_list)\n",
    "            \n",
    "    def establishConnection(self,host,user,passwd):\n",
    "        return connection.connect(host='localhost',user='root',passwd='mysqlserver',use_pure=True)\n",
    "    \n",
    "    def createDatabase(self,db,dbName):\n",
    "        cursor =db.cursor() \n",
    "        cursor.execute(\"create database {}\".format(dbName))\n",
    "        \n",
    "    def createTable(self,mydb,query):\n",
    "        cursor =mydb.cursor()\n",
    "        cursor.execute(query)\n",
    "        return cursor;\n",
    "    \n",
    "    def insertData(self,cursor):\n",
    "        inserted,not_inserted=0,0\n",
    "        with open(self.destFile,'r') as data:\n",
    "        \n",
    "            next(data)\n",
    "            data_csv=csv.reader(data,delimiter=';')\n",
    "            for i in data_csv:\n",
    "                try:\n",
    "                    cursor.execute('insert into {}.{} values({});'.format(self.dbName,self.tableName,str(i[0])))\n",
    "                    #cursor.execute('insert into {}.{} values({});'.format(self.dbName,self.tableName,', '.join([value for value in i])))\n",
    "                    inserted+=1\n",
    "                    \n",
    "                except Exception as e:\n",
    "                    print('{} not inserted as {}'.format(i[0],str(e)))\n",
    "                    break\n",
    "                    not_inserted+=1\n",
    "                \n",
    "            return inserted,not_inserted\n",
    "                    \n",
    "        \n",
    "        "
   ]
  },
  {
   "cell_type": "code",
   "execution_count": 20,
   "metadata": {},
   "outputs": [],
   "source": [
    "insertFile = InsertFileToMysql('Bhushan','Carbon_Nanotube','carbon_nanotubes.csv','carbon_updated_nanotubes.csv')"
   ]
  },
  {
   "cell_type": "markdown",
   "metadata": {},
   "source": [
    "# Clean data"
   ]
  },
  {
   "cell_type": "code",
   "execution_count": 21,
   "metadata": {},
   "outputs": [],
   "source": [
    "insertFile.cleanData()"
   ]
  },
  {
   "cell_type": "markdown",
   "metadata": {},
   "source": [
    "# Create DB connection"
   ]
  },
  {
   "cell_type": "code",
   "execution_count": 22,
   "metadata": {},
   "outputs": [],
   "source": [
    "mydb =insertFile.establishConnection('localhost','root','mysqlserver')"
   ]
  },
  {
   "cell_type": "markdown",
   "metadata": {},
   "source": [
    "# Create Database"
   ]
  },
  {
   "cell_type": "code",
   "execution_count": 23,
   "metadata": {},
   "outputs": [],
   "source": [
    "insertFile.createDatabaseCREATE TABLE {}.{} (ChiralindN varchar(10),ChiralindM varchar(10),InitialatomiccoE varchar(10),InitialatomiccoV varchar(10),InitialatomiccoW varchar(10),CalculatedatomiccoU varchar(10),CalculatedatomiccoV varchar(10),CalculatedatomiccoW varchar(10))'.format(insertFile.dbName,insertFile.tableName)(mydb,insertFile.dbName)"
   ]
  },
  {
   "cell_type": "code",
   "execution_count": 24,
   "metadata": {},
   "outputs": [
    {
     "data": {
      "text/plain": [
       "'CREATE TABLE Bhushan.Carbon_Nanotube (ChiralindN varchar(10),ChiralindM varchar(10),InitialatomiccoE varchar(10),InitialatomiccoV varchar(10),InitialatomiccoW varchar(10),CalculatedatomiccoU varchar(10),CalculatedatomiccoV varchar(10),CalculatedatomiccoW varchar(10))'"
      ]
     },
     "execution_count": 24,
     "metadata": {},
     "output_type": "execute_result"
    }
   ],
   "source": [
    "query = 'CREATE TABLE {}.{} (ChiralindN varchar(10),ChiralindM varchar(10),InitialatomiccoE varchar(10),InitialatomiccoV varchar(10),InitialatomiccoW varchar(10),CalculatedatomiccoU varchar(10),CalculatedatomiccoV varchar(10),CalculatedatomiccoW varchar(10))'.format(insertFile.dbName,insertFile.tableName)\n",
    "query"
   ]
  },
  {
   "cell_type": "markdown",
   "metadata": {},
   "source": [
    "# Create Table"
   ]
  },
  {
   "cell_type": "code",
   "execution_count": 25,
   "metadata": {},
   "outputs": [],
   "source": [
    "cursor=insertFile.createTable(mydb,query)"
   ]
  },
  {
   "cell_type": "markdown",
   "metadata": {},
   "source": [
    "# Insert data into Table "
   ]
  },
  {
   "cell_type": "code",
   "execution_count": 26,
   "metadata": {},
   "outputs": [
    {
     "name": "stdout",
     "output_type": "stream",
     "text": [
      "rows inserted 10721 \n",
      " rows not inserted 0\n"
     ]
    }
   ],
   "source": [
    "inserted,not_inserted=insertFile.insertData(cursor)\n",
    "mydb.commit()\n",
    "print('rows inserted {} \\n rows not inserted {}'.format(inserted,not_inserted))"
   ]
  },
  {
   "cell_type": "code",
   "execution_count": null,
   "metadata": {},
   "outputs": [],
   "source": []
  }
 ],
 "metadata": {
  "kernelspec": {
   "display_name": "Python 3",
   "language": "python",
   "name": "python3"
  },
  "language_info": {
   "codemirror_mode": {
    "name": "ipython",
    "version": 3
   },
   "file_extension": ".py",
   "mimetype": "text/x-python",
   "name": "python",
   "nbconvert_exporter": "python",
   "pygments_lexer": "ipython3",
   "version": "3.8.3"
  }
 },
 "nbformat": 4,
 "nbformat_minor": 4
}
