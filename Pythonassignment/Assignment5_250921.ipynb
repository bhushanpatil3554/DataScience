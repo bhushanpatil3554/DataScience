{
 "cells": [
  {
   "cell_type": "markdown",
   "metadata": {},
   "source": [
    "1. Create a function that takes a number n (integer greater than zero) as an argument, and returns 2 if n is odd and 8 if n is even.\n",
    "\n",
    "You can only use the following arithmetic operators: addition of numbers +, subtraction of numbers -, multiplication of number *, division of number /, and exponentiation **.\n",
    "\n",
    "You are not allowed to use any other methods in this challenge (i.e. no if statements, comparison operators, etc).\n",
    "\n",
    "Examples\n",
    "\n",
    "f(1) ➞ 2\n",
    "\n",
    "f(2) ➞ 8\n",
    "\n",
    "f(3) ➞ 2\n"
   ]
  },
  {
   "cell_type": "code",
   "execution_count": 2,
   "metadata": {},
   "outputs": [],
   "source": [
    "def f(n):\n",
    "    if n > 0:\n",
    "        if n%2 ==0:\n",
    "            return 2\n",
    "        else: return 8"
   ]
  },
  {
   "cell_type": "code",
   "execution_count": 3,
   "metadata": {},
   "outputs": [
    {
     "data": {
      "text/plain": [
       "2"
      ]
     },
     "execution_count": 3,
     "metadata": {},
     "output_type": "execute_result"
    }
   ],
   "source": [
    "f(2)"
   ]
  },
  {
   "cell_type": "code",
   "execution_count": 4,
   "metadata": {},
   "outputs": [
    {
     "data": {
      "text/plain": [
       "2"
      ]
     },
     "execution_count": 4,
     "metadata": {},
     "output_type": "execute_result"
    }
   ],
   "source": [
    "f(8)"
   ]
  },
  {
   "cell_type": "code",
   "execution_count": 5,
   "metadata": {},
   "outputs": [
    {
     "data": {
      "text/plain": [
       "8"
      ]
     },
     "execution_count": 5,
     "metadata": {},
     "output_type": "execute_result"
    }
   ],
   "source": [
    "f(3)"
   ]
  },
  {
   "cell_type": "markdown",
   "metadata": {},
   "source": [
    "2. Create a function that returns the majority vote in a list. A majority vote is an element that occurs > N/2 times in a list (where N is the length of the list).\n",
    "\n",
    "Examples\n",
    "\n",
    "majority_vote([\"A\", \"A\", \"B\"]) ➞ \"A\"\n",
    "\n",
    "majority_vote([\"A\", \"A\", \"A\", \"B\", \"C\", \"A\"]) ➞ \"A\"\n",
    "\n",
    "majority_vote([\"A\", \"B\", \"B\", \"A\", \"C\", \"C\"]) ➞ None\n"
   ]
  },
  {
   "cell_type": "code",
   "execution_count": 16,
   "metadata": {},
   "outputs": [],
   "source": [
    "def findCandidate(A):\n",
    "    maj_index = 0\n",
    "    count = 1\n",
    "    for i in range(len(A)):\n",
    "        if A[maj_index] == A[i]:\n",
    "            count += 1\n",
    "        else:\n",
    "            count -= 1\n",
    "        if count == 0:\n",
    "            maj_index = i\n",
    "            count = 1\n",
    "    return A[maj_index]\n",
    "    \n",
    "def isMajority(A, cand):\n",
    "    count = 0\n",
    "    for i in range(len(A)):\n",
    "        if A[i] == cand:\n",
    "            count += 1\n",
    "    if count > len(A)/2:\n",
    "        return True\n",
    "    else:\n",
    "        return False\n",
    "    \n",
    "def majority_vote(A):\n",
    "    # Find the candidate for Majority\n",
    "    cand = findCandidate(A)\n",
    " \n",
    "    # Print the candidate if it is Majority\n",
    "    if isMajority(A, cand) == True:\n",
    "        print(cand)\n",
    "    else:\n",
    "        print(\"None\")    "
   ]
  },
  {
   "cell_type": "code",
   "execution_count": 17,
   "metadata": {},
   "outputs": [
    {
     "name": "stdout",
     "output_type": "stream",
     "text": [
      "A\n"
     ]
    }
   ],
   "source": [
    "majority_vote([\"A\", \"A\", \"B\"])"
   ]
  },
  {
   "cell_type": "code",
   "execution_count": 18,
   "metadata": {},
   "outputs": [
    {
     "name": "stdout",
     "output_type": "stream",
     "text": [
      "A\n"
     ]
    }
   ],
   "source": [
    "majority_vote([\"A\", \"A\", \"A\", \"B\", \"C\", \"A\"])"
   ]
  },
  {
   "cell_type": "code",
   "execution_count": 19,
   "metadata": {},
   "outputs": [
    {
     "name": "stdout",
     "output_type": "stream",
     "text": [
      "None\n"
     ]
    }
   ],
   "source": [
    "majority_vote([\"A\", \"B\", \"B\", \"A\", \"C\", \"C\"])"
   ]
  },
  {
   "cell_type": "markdown",
   "metadata": {},
   "source": [
    "3. Create a function that takes a string txt and censors any word from a given list lst. The text removed must be replaced by the given character char.\n",
    "\n",
    "Examples\n",
    "\n",
    "censor_string(\"Today is a Wednesday!\", [\"Today\", \"a\"], \"-\") ➞ \"----- is - Wednesday!\"\n",
    "\n",
    "censor_string(\"The cow jumped over the moon.\", [\"cow\", \"over\"], \"*\"), \"The *** jumped **** the moon.\")\n",
    "\n",
    "censor_string(\"Why did the chicken cross the road?\", [\"Did\", \"chicken\", \"road\"], \"*\") ➞ \"Why *** the ******* cross the ****?\"\n"
   ]
  },
  {
   "cell_type": "code",
   "execution_count": 52,
   "metadata": {},
   "outputs": [],
   "source": [
    "def censor_string(string,replace_list,char):\n",
    "    new_cencor_str=\"\"\n",
    "    string_split = string.split()\n",
    "    for i in string_split:\n",
    "        for j in replace_list:\n",
    "            if i == j:\n",
    "                i=\"\"\n",
    "                for k in j:\n",
    "                    \n",
    "                    i+=char\n",
    "        \n",
    "        new_cencor_str+=\" \"+(i)\n",
    "    return new_cencor_str    \n",
    "                \n",
    "        \n",
    "        "
   ]
  },
  {
   "cell_type": "code",
   "execution_count": 53,
   "metadata": {},
   "outputs": [
    {
     "data": {
      "text/plain": [
       "' ----- is - Wednesday!'"
      ]
     },
     "execution_count": 53,
     "metadata": {},
     "output_type": "execute_result"
    }
   ],
   "source": [
    "censor_string(\"Today is a Wednesday!\", [\"Today\", \"a\"], \"-\")"
   ]
  },
  {
   "cell_type": "code",
   "execution_count": 54,
   "metadata": {},
   "outputs": [
    {
     "data": {
      "text/plain": [
       "' The *** jumped **** the moon.'"
      ]
     },
     "execution_count": 54,
     "metadata": {},
     "output_type": "execute_result"
    }
   ],
   "source": [
    "censor_string(\"The cow jumped over the moon.\", [\"cow\", \"over\"], \"*\")"
   ]
  },
  {
   "cell_type": "code",
   "execution_count": 56,
   "metadata": {},
   "outputs": [
    {
     "data": {
      "text/plain": [
       "' Why *** the ******* cross the road?'"
      ]
     },
     "execution_count": 56,
     "metadata": {},
     "output_type": "execute_result"
    }
   ],
   "source": [
    "censor_string(\"Why did the chicken cross the road?\", [\"did\", \"chicken\", \"road\"], \"*\")"
   ]
  },
  {
   "cell_type": "markdown",
   "metadata": {},
   "source": [
    "4. In mathematics a Polydivisible Number (or magic number) is a number in a given number base with digits abcde... that has the following properties:\n",
    "\n",
    "-  Its first digit a is not 0.\n",
    "- The number formed by its first two digits ab is a multiple of 2.\n",
    "- The number formed by its first three digits abc is a multiple of 3.\n",
    "- The number formed by its first four digits abcd is a multiple of 4.\n",
    "\n",
    "Create a function which takes an integer n and returns True if the given number is a Polydivisible Number and False otherwise.\n",
    "\n",
    "Examples\n",
    "\n",
    "is_polydivisible(1232) ➞ True\n",
    "# 1     / 1 = 1\n",
    "# 12    / 2 = 6\n",
    "# 123   / 3 = 41\n",
    "# 1232  / 4 = 308\n",
    "\n",
    "is_polydivisible(123220 ) ➞ False\n",
    "# 1   / 1 = 1\n",
    "# 12   / 2 = 6\n",
    "# 123   / 3 = 41\n",
    "# 1232   / 4 = 308\n",
    "# 12322   / 5 = 2464.4         # Not a Whole Number\n",
    "# 123220   /6 = 220536.333...  # Not a Whole Number\n"
   ]
  },
  {
   "cell_type": "code",
   "execution_count": 73,
   "metadata": {},
   "outputs": [],
   "source": [
    "def is_polydivisible(n):\n",
    "    N = n\n",
    "    digit = []\n",
    "    while (n > 0):\n",
    "        # store the digits in an array\n",
    "        digit.append(n % 10)\n",
    "        n = int(n/10)\n",
    "    \n",
    "    digit.reverse()\n",
    " \n",
    "    flag = True\n",
    "    n = digit[0]\n",
    "    for i in range(1, len(digit), 1):\n",
    "        n = n * 10 + digit[i]\n",
    "        # n should be divisible by i\n",
    "        if (n % (i + 1) != 0):\n",
    "            flag = False\n",
    "            break\n",
    "     \n",
    "    if (flag):\n",
    "        print(N, \"is Polydivisible number.\");\n",
    "    else:\n",
    "        print(N, \"is Not Polydivisible number.\")"
   ]
  },
  {
   "cell_type": "code",
   "execution_count": 74,
   "metadata": {},
   "outputs": [
    {
     "name": "stdout",
     "output_type": "stream",
     "text": [
      "1232 is Polydivisible number.\n"
     ]
    }
   ],
   "source": [
    "is_polydivisible(1232)"
   ]
  },
  {
   "cell_type": "code",
   "execution_count": 75,
   "metadata": {},
   "outputs": [
    {
     "name": "stdout",
     "output_type": "stream",
     "text": [
      "123220 is Not Polydivisible number.\n"
     ]
    }
   ],
   "source": [
    "is_polydivisible(123220 ) "
   ]
  },
  {
   "cell_type": "markdown",
   "metadata": {},
   "source": [
    "5. Create a function that takes a list of numbers and returns the sum of all prime numbers in the list.\n",
    "\n",
    "Examples\n",
    "\n",
    "sum_primes([1, 2, 3, 4, 5, 6, 7, 8, 9, 10]) ➞ 17\n",
    "\n",
    "sum_primes([2, 3, 4, 11, 20, 50, 71]) ➞ 87\n",
    "\n",
    "sum_primes([]) ➞ None\n"
   ]
  },
  {
   "cell_type": "code",
   "execution_count": 100,
   "metadata": {},
   "outputs": [],
   "source": [
    "def sum_primes(l):\n",
    "    sum =0\n",
    "    for j in l:\n",
    "        print(j)\n",
    "        if j > 1:\n",
    "            for i in range(2, j):\n",
    "                print(i)\n",
    "                if (j % i) == 0:\n",
    "                    break\n",
    "            else:\n",
    "                print(\"prime no\",j)\n",
    "                sum +=j\n",
    "    print(sum)    \n",
    " "
   ]
  },
  {
   "cell_type": "code",
   "execution_count": 101,
   "metadata": {},
   "outputs": [
    {
     "name": "stdout",
     "output_type": "stream",
     "text": [
      "1\n",
      "2\n",
      "prime no 2\n",
      "3\n",
      "2\n",
      "prime no 3\n",
      "4\n",
      "2\n",
      "5\n",
      "2\n",
      "3\n",
      "4\n",
      "prime no 5\n",
      "6\n",
      "2\n",
      "7\n",
      "2\n",
      "3\n",
      "4\n",
      "5\n",
      "6\n",
      "prime no 7\n",
      "8\n",
      "2\n",
      "9\n",
      "2\n",
      "3\n",
      "10\n",
      "2\n",
      "17\n"
     ]
    }
   ],
   "source": [
    "sum_primes([1, 2, 3, 4, 5, 6, 7, 8, 9, 10]) "
   ]
  },
  {
   "cell_type": "code",
   "execution_count": null,
   "metadata": {},
   "outputs": [],
   "source": []
  }
 ],
 "metadata": {
  "kernelspec": {
   "display_name": "Python 3",
   "language": "python",
   "name": "python3"
  },
  "language_info": {
   "codemirror_mode": {
    "name": "ipython",
    "version": 3
   },
   "file_extension": ".py",
   "mimetype": "text/x-python",
   "name": "python",
   "nbconvert_exporter": "python",
   "pygments_lexer": "ipython3",
   "version": "3.8.3"
  }
 },
 "nbformat": 4,
 "nbformat_minor": 4
}
