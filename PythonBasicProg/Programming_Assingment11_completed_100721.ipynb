{
 "cells": [
  {
   "cell_type": "markdown",
   "metadata": {},
   "source": [
    "#### Write a Python program to find words which are greater than given length k?\n",
    "\n"
   ]
  },
  {
   "cell_type": "code",
   "execution_count": 1,
   "metadata": {},
   "outputs": [
    {
     "name": "stdout",
     "output_type": "stream",
     "text": [
      "Enter the string : Python is programming language\n",
      "Enter k  (value for accepting string) : 6\n",
      "All words which are greater than given length  6 are  ['programming', 'language']\n"
     ]
    }
   ],
   "source": [
    "myStr =  input('Enter the string : ')\n",
    "k = int(input('Enter k  (value for accepting string) : '))\n",
    "largerStrings = []\n",
    "\n",
    "# Finding words with length greater than k\n",
    "words = myStr.split(\" \")\n",
    "for word in words:\n",
    "    if len(word) > k:\n",
    "        largerStrings.append(word)\n",
    "print(\"All words which are greater than given length \", k, \"are \", largerStrings)"
   ]
  },
  {
   "cell_type": "markdown",
   "metadata": {},
   "source": [
    "#### Write a Python program for removing i-th character from a string?\n"
   ]
  },
  {
   "cell_type": "code",
   "execution_count": 12,
   "metadata": {},
   "outputs": [
    {
     "name": "stdout",
     "output_type": "stream",
     "text": [
      "Pyhon\n"
     ]
    }
   ],
   "source": [
    "new_str = \"\"\n",
    "test_str = \"Python\"  \n",
    "for i in range(len(test_str)):\n",
    "    if i != 2:\n",
    "        new_str = new_str + test_str[i]\n",
    "print(new_str)        "
   ]
  },
  {
   "cell_type": "markdown",
   "metadata": {},
   "source": [
    "#### Write a Python program to split and join a string?\n"
   ]
  },
  {
   "cell_type": "code",
   "execution_count": 10,
   "metadata": {},
   "outputs": [
    {
     "name": "stdout",
     "output_type": "stream",
     "text": [
      "Enter first String with space :: Python is programming language\n",
      "['Python', 'is', 'programming', 'language']\n",
      "Enter first String   :: aaaaa\n",
      "Enter second String  ::  bbbbb\n",
      "AFTER JOINING OF TWO STRING ::> a bbbbba bbbbba bbbbba bbbbba\n"
     ]
    }
   ],
   "source": [
    "str1=input(\"Enter first String with space :: \")\n",
    "print(str1.split(\" \")) \n",
    "\n",
    "str1=input(\"Enter first String   :: \")\n",
    "str2=input(\"Enter second String  :: \")\n",
    "str=str2.join(str1)     #each character of str1 is concatenated to the #front of str2\n",
    "print(\"AFTER JOINING OF TWO STRING ::>\",str)"
   ]
  },
  {
   "cell_type": "code",
   "execution_count": null,
   "metadata": {},
   "outputs": [],
   "source": []
  },
  {
   "cell_type": "markdown",
   "metadata": {},
   "source": [
    "#### Write a Python to check if a given string is binary string or not?\n"
   ]
  },
  {
   "cell_type": "code",
   "execution_count": 14,
   "metadata": {},
   "outputs": [
    {
     "name": "stdout",
     "output_type": "stream",
     "text": [
      "StringA is a binary string.\n",
      "StringB is not a binary string.\n"
     ]
    }
   ],
   "source": [
    "stringA = '0110101010111'\n",
    "b = {'0','1'}\n",
    "t = set(stringA)\n",
    "\n",
    "if b == t or t == {'0'} or t == {'1'}:\n",
    "    print(\"StringA is a binary string.\")\n",
    "else:\n",
    "    print(\"StringA is not a binary string.\")\n",
    "\n",
    "stringB = '0120101010111'\n",
    "u = set(stringB)\n",
    "\n",
    "if b == u or u == {'0'} or u == {'1'}:\n",
    "    print(\"StringB is a binary string.\")\n",
    "else:\n",
    "    print(\"StringB is not a binary string.\")"
   ]
  },
  {
   "cell_type": "markdown",
   "metadata": {},
   "source": [
    "#### Write a Python program to find uncommon words from two Strings?\n"
   ]
  },
  {
   "cell_type": "code",
   "execution_count": 15,
   "metadata": {},
   "outputs": [
    {
     "name": "stdout",
     "output_type": "stream",
     "text": [
      "Enter first string : alpha beta gamma\n",
      "Enter second string : beta python\n",
      "Uncommon words are : ['alpha', 'gamma', 'python']\n"
     ]
    }
   ],
   "source": [
    "def uncomn_wrd(x,y):\n",
    "\n",
    "    x = x.split()\n",
    "\n",
    "    y = y.split()\n",
    "\n",
    "# Using symmetric_difference()\n",
    "\n",
    "    k = set(x).symmetric_difference(set(y))\n",
    "\n",
    "    return k\n",
    "\n",
    "str1 = input(\"Enter first string : \")\n",
    "\n",
    "str2 = input(\"Enter second string : \")\n",
    "\n",
    "print(\"Uncommon words are :\", list(uncomn_wrd(str1, str2)))"
   ]
  },
  {
   "cell_type": "markdown",
   "metadata": {},
   "source": [
    "#### Write a Python to find all duplicate characters in string?\n"
   ]
  },
  {
   "cell_type": "code",
   "execution_count": 16,
   "metadata": {},
   "outputs": [
    {
     "name": "stdout",
     "output_type": "stream",
     "text": [
      "enter the string whose duplicate characters you want to find:python python is python is programming programming language\n",
      "the duplicate character in python python is python is programming programming language is\n",
      "['p', 'y', 't', 'h', 'o', 'n', ' ', 'i', 's', 'r', 'g', 'a', 'm']\n"
     ]
    }
   ],
   "source": [
    "string = input(\"enter the string whose duplicate characters you want to find:\")\n",
    "def duplicates_char(s):\n",
    "    elements = {}\n",
    "    for char in s:\n",
    "        if elements.get(char,None) != None:\n",
    "            elements[char]+=1\n",
    "        else:\n",
    "            elements[char] = 1\n",
    "    return [k for k,v in elements.items() if v>1]\n",
    "print(\"the duplicate character in\",string,\"is\")\n",
    "print(duplicates_char(string))"
   ]
  },
  {
   "cell_type": "markdown",
   "metadata": {},
   "source": [
    "#### Write a Python Program to check if a string contains any special character?"
   ]
  },
  {
   "cell_type": "code",
   "execution_count": 17,
   "metadata": {},
   "outputs": [
    {
     "name": "stdout",
     "output_type": "stream",
     "text": [
      "Enter any string: python$\n",
      "The string contains special characters.\n"
     ]
    }
   ],
   "source": [
    "import re\n",
    "\n",
    "# take inputs\n",
    "string = input('Enter any string: ')\n",
    " \n",
    "# special characters\n",
    "special_char = re.compile('[@_!#$%^&*()<>?/\\|}{~:]')\n",
    "\n",
    "# check string contains special characters or not\n",
    "if(special_char.search(string) == None):\n",
    "    print('String does not contain any special characters.')\n",
    "else:\n",
    "    print('The string contains special characters.')"
   ]
  },
  {
   "cell_type": "code",
   "execution_count": null,
   "metadata": {},
   "outputs": [],
   "source": []
  }
 ],
 "metadata": {
  "kernelspec": {
   "display_name": "Python 3",
   "language": "python",
   "name": "python3"
  },
  "language_info": {
   "codemirror_mode": {
    "name": "ipython",
    "version": 3
   },
   "file_extension": ".py",
   "mimetype": "text/x-python",
   "name": "python",
   "nbconvert_exporter": "python",
   "pygments_lexer": "ipython3",
   "version": "3.8.5"
  }
 },
 "nbformat": 4,
 "nbformat_minor": 4
}
