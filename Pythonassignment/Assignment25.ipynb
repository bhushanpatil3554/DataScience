{
 "cells": [
  {
   "cell_type": "markdown",
   "metadata": {},
   "source": [
    "1. Write four functions that directly mutate a list:\n",
    "1. repeat(lst, n): Repeat lst n times.\n",
    "2. add(lst, x): Adds x to the end of the lst.\n",
    "3. remove(lst, m, n): Removes all elements between indices m and n\n",
    "inclusive in lst.\n",
    "4. concat(lst, x): concatenates lst with x (another list).\n",
    "Examples\n",
    "lst = [1, 2, 3, 4]\n",
    "repeat(lst, 3) ➞ [1, 2, 3, 4, 1, 2, 3, 4, 1, 2, 3, 4]\n",
    "add(lst, 1) ➞ [1, 2, 3, 4, 1, 2, 3, 4, 1, 2, 3, 4, 1]\n",
    "remove(lst, 1, 12) ➞ [1]\n",
    "concat(lst, [3, 4]) ➞ [1, 3, 4]"
   ]
  },
  {
   "cell_type": "code",
   "execution_count": 105,
   "metadata": {},
   "outputs": [],
   "source": [
    "lst = [1, 2, 3, 4]\n",
    "def repeat(l,no):\n",
    "    return l*no\n",
    "def add(l,a):\n",
    "    l.append(a)\n",
    "    return l\n",
    "def remove(l,index1,index2):\n",
    "    del l[index1:index2+1]\n",
    "    return l\n",
    "def concat(l, l2):\n",
    "    l = l+l2\n",
    "    return l"
   ]
  },
  {
   "cell_type": "code",
   "execution_count": 106,
   "metadata": {},
   "outputs": [
    {
     "data": {
      "text/plain": [
       "[1, 2, 3, 4, 1, 2, 3, 4, 1, 2, 3, 4]"
      ]
     },
     "execution_count": 106,
     "metadata": {},
     "output_type": "execute_result"
    }
   ],
   "source": [
    "lst=repeat(lst, 3)\n",
    "lst"
   ]
  },
  {
   "cell_type": "code",
   "execution_count": 107,
   "metadata": {},
   "outputs": [
    {
     "data": {
      "text/plain": [
       "[1, 2, 3, 4, 1, 2, 3, 4, 1, 2, 3, 4, 1]"
      ]
     },
     "execution_count": 107,
     "metadata": {},
     "output_type": "execute_result"
    }
   ],
   "source": [
    "lst=add(lst, 1)\n",
    "lst"
   ]
  },
  {
   "cell_type": "code",
   "execution_count": 108,
   "metadata": {},
   "outputs": [
    {
     "data": {
      "text/plain": [
       "[1]"
      ]
     },
     "execution_count": 108,
     "metadata": {},
     "output_type": "execute_result"
    }
   ],
   "source": [
    "lst = remove(lst, 1, 12)\n",
    "lst"
   ]
  },
  {
   "cell_type": "code",
   "execution_count": 109,
   "metadata": {},
   "outputs": [
    {
     "data": {
      "text/plain": [
       "[1, 3, 4]"
      ]
     },
     "execution_count": 109,
     "metadata": {},
     "output_type": "execute_result"
    }
   ],
   "source": [
    "concat(lst, [3, 4])"
   ]
  },
  {
   "cell_type": "code",
   "execution_count": null,
   "metadata": {},
   "outputs": [],
   "source": []
  },
  {
   "cell_type": "code",
   "execution_count": null,
   "metadata": {},
   "outputs": [],
   "source": [
    "2. The classic game of Mastermind is played on a tray on which the Mastermind conceals a code and the Guesser has 10 tries to guess it. The code is a sequence of 4 (or 6, sometimes more) pegs of different colors. Each guess is a corresponding sequence of 4 (or more) pegs of different colors. A guess is \"correct\" when the color of every peg in the guess exactly matches the corresponding peg in the Mastermind's code.\n",
    "\n",
    "After each guess by the Guesser, the Mastermind will give a score comprising black & white pegs, not arranged in any order:\n",
    "\n",
    "   - Black peg == guess peg matches the color of a code peg in the same position.\n",
    "   - White peg == guess peg matches the color of a code peg in another position.\n",
    "\n",
    "Create a function that takes two strings, code and guess as arguments, and returns the score in a dictionary.\n",
    "\n",
    "   - The code and guess are strings of numeric digits\n",
    "   - The color of the pegs are represented by numeric digits\n",
    "   - no \"peg\" may be double-scored\n",
    "\n",
    "Examples\n",
    "\n",
    "guess_score(\"1423\", \"5678\") ➞ {\"black\": 0, \"white\": 0}\n",
    "\n",
    "guess_score(\"1423\", \"2222\") ➞ {\"black\": 1, \"white\": 0}\n",
    "\n",
    "guess_score(\"1423\", \"1234\") ➞ {\"black\": 1, \"white\": 3}\n",
    "\n",
    "guess_score(\"1423\", \"2211\") ➞ {\"black\": 0, \"white\": 2}\n",
    "\n"
   ]
  },
  {
   "cell_type": "code",
   "execution_count": 140,
   "metadata": {},
   "outputs": [],
   "source": [
    "def guess_score(str1,str2):\n",
    "    guess ={}\n",
    "    black =0\n",
    "    white=0\n",
    "    temp=[]\n",
    "    for index,i in enumerate(str1):\n",
    "        flag =False\n",
    "        for index2,j in enumerate(str2):\n",
    "            if i == j :\n",
    "                if index == index2:\n",
    "                    black +=1\n",
    "                    flag=True\n",
    "                    break\n",
    "        if not flag:            \n",
    "            for index2,j in enumerate(str2):\n",
    "                if i == j and not i in temp:\n",
    "                    temp.append(i)\n",
    "                    white +=1\n",
    "                           \n",
    "    guess['black']=black\n",
    "    guess['white']=white\n",
    "    return guess\n",
    "                    \n",
    "        "
   ]
  },
  {
   "cell_type": "code",
   "execution_count": 141,
   "metadata": {},
   "outputs": [
    {
     "data": {
      "text/plain": [
       "{'black': 0, 'white': 0}"
      ]
     },
     "execution_count": 141,
     "metadata": {},
     "output_type": "execute_result"
    }
   ],
   "source": [
    "guess_score(\"1423\", \"5678\")"
   ]
  },
  {
   "cell_type": "code",
   "execution_count": 142,
   "metadata": {},
   "outputs": [
    {
     "data": {
      "text/plain": [
       "{'black': 1, 'white': 0}"
      ]
     },
     "execution_count": 142,
     "metadata": {},
     "output_type": "execute_result"
    }
   ],
   "source": [
    "guess_score(\"1423\", \"2222\") "
   ]
  },
  {
   "cell_type": "code",
   "execution_count": 143,
   "metadata": {},
   "outputs": [
    {
     "data": {
      "text/plain": [
       "{'black': 1, 'white': 3}"
      ]
     },
     "execution_count": 143,
     "metadata": {},
     "output_type": "execute_result"
    }
   ],
   "source": [
    "guess_score(\"1423\", \"1234\") "
   ]
  },
  {
   "cell_type": "code",
   "execution_count": 144,
   "metadata": {},
   "outputs": [
    {
     "data": {
      "text/plain": [
       "{'black': 0, 'white': 2}"
      ]
     },
     "execution_count": 144,
     "metadata": {},
     "output_type": "execute_result"
    }
   ],
   "source": [
    "guess_score(\"1423\", \"2211\")"
   ]
  },
  {
   "cell_type": "code",
   "execution_count": null,
   "metadata": {},
   "outputs": [],
   "source": []
  },
  {
   "cell_type": "code",
   "execution_count": null,
   "metadata": {},
   "outputs": [],
   "source": []
  },
  {
   "cell_type": "markdown",
   "metadata": {},
   "source": [
    "3. Create a function that takes a list lst and a number N and returns a list of two integers from lst whose product equals N.\n",
    "\n",
    "Examples\n",
    "\n",
    "two_product([1, 2, -1, 4, 5], 20) ➞ [4, 5]\n",
    "\n",
    "two_product([1, 2, 3, 4, 5], 10) ➞ [2, 5]\n",
    "\n",
    "two_product([100, 12, 4, 1, 2], 15) ➞ None\n",
    "\n",
    "\n"
   ]
  },
  {
   "cell_type": "code",
   "execution_count": 155,
   "metadata": {},
   "outputs": [],
   "source": [
    "def two_product(l,product):\n",
    "    temp=[]\n",
    "    flag=False\n",
    "    for i in (l):\n",
    "        \n",
    "        for j in l:\n",
    "            if product == i*j:\n",
    "                temp.append(i)\n",
    "                temp.append(j)\n",
    "                flag=True\n",
    "        if flag:\n",
    "            break\n",
    "                \n",
    "                \n",
    "    return temp"
   ]
  },
  {
   "cell_type": "code",
   "execution_count": 156,
   "metadata": {},
   "outputs": [
    {
     "data": {
      "text/plain": [
       "[4, 5]"
      ]
     },
     "execution_count": 156,
     "metadata": {},
     "output_type": "execute_result"
    }
   ],
   "source": [
    "two_product([1, 2, -1, 4, 5], 20) "
   ]
  },
  {
   "cell_type": "code",
   "execution_count": 157,
   "metadata": {},
   "outputs": [
    {
     "data": {
      "text/plain": [
       "[2, 5]"
      ]
     },
     "execution_count": 157,
     "metadata": {},
     "output_type": "execute_result"
    }
   ],
   "source": [
    "two_product([1, 2, 3, 4, 5], 10) "
   ]
  },
  {
   "cell_type": "code",
   "execution_count": 158,
   "metadata": {},
   "outputs": [
    {
     "data": {
      "text/plain": [
       "[]"
      ]
     },
     "execution_count": 158,
     "metadata": {},
     "output_type": "execute_result"
    }
   ],
   "source": [
    "\n",
    "two_product([100, 12, 4, 1, 2], 15)"
   ]
  },
  {
   "cell_type": "code",
   "execution_count": null,
   "metadata": {},
   "outputs": [],
   "source": []
  },
  {
   "cell_type": "code",
   "execution_count": null,
   "metadata": {},
   "outputs": [],
   "source": [
    "4. In this challenge, sort a list containing a series of dates given as strings. Each date is given in the format DD-MM-YYYY_HH:MM:\n",
    "\n",
    "\"12-02-2012_13:44\"\n",
    "\n",
    "The priority of criteria used for sorting will be:\n",
    "\n",
    "  - Year\n",
    "  - Month\n",
    "  - Day\n",
    "  - Hours\n",
    "  - Minutes\n",
    "\n",
    "Given a list lst and a string mode, implement a function that returns:\n",
    "\n",
    "   - if mode is equal to \"ASC\", the list lst sorted in ascending order.\n",
    "   - if mode is equal to \"DSC\", the list lst sorted in descending order.\n",
    "\n",
    "Examples\n",
    "\n",
    "sort_dates([\"10-02-2018_12:30\", \"10-02-2016_12:30\", \"10-02-2018_12:15\"], \"ASC\") ➞ [\"10-02-2016_12:30\", \"10-02-2018_12:15\", \"10-02-2018_12:30\"]\n",
    "\n",
    "sort_dates([\"10-02-2018_12:30\", \"10-02-2016_12:30\", \"10-02-2018_12:15\"], \"DSC\") ➞ [\"10-02-2018_12:30\", \"10-02-2018_12:15\", \"10-02-2016_12:30\"]\n",
    "\n",
    "sort_dates([\"09-02-2000_10:03\", \"10-02-2000_18:29\", \"01-01-1999_00:55\"], \"ASC\") ➞ [\"01-01-1999_00:55\", \"09-02-2000_10:03\", \"10-02-2000_18:29\"]\n"
   ]
  },
  {
   "cell_type": "code",
   "execution_count": 171,
   "metadata": {},
   "outputs": [
    {
     "name": "stdout",
     "output_type": "stream",
     "text": [
      "['10-02-2018_12:30', '10-02-2018_12:15', '10-02-2016_12:30']\n"
     ]
    }
   ],
   "source": [
    "from datetime import datetime\n",
    "a=[\"10-02-2018_12:30\", \"10-02-2016_12:30\", \"10-02-2018_12:15\"]\n",
    "a.sort(key=lambda date: datetime.strptime(date, \"%d-%m-%Y_%H:%M\"),reverse=True)\n",
    "print(a)"
   ]
  },
  {
   "cell_type": "code",
   "execution_count": 172,
   "metadata": {},
   "outputs": [],
   "source": [
    "def sort_dates(l,order):\n",
    "    if order == 'ASC':\n",
    "        l.sort(key=lambda date: datetime.strptime(date, \"%d-%m-%Y_%H:%M\"),reverse=False)\n",
    "    else :\n",
    "        l.sort(key=lambda date: datetime.strptime(date, \"%d-%m-%Y_%H:%M\"),reverse=True)\n",
    "    return l    "
   ]
  },
  {
   "cell_type": "code",
   "execution_count": 173,
   "metadata": {},
   "outputs": [
    {
     "data": {
      "text/plain": [
       "['10-02-2016_12:30', '10-02-2018_12:15', '10-02-2018_12:30']"
      ]
     },
     "execution_count": 173,
     "metadata": {},
     "output_type": "execute_result"
    }
   ],
   "source": [
    "sort_dates([\"10-02-2018_12:30\", \"10-02-2016_12:30\", \"10-02-2018_12:15\"], \"ASC\")"
   ]
  },
  {
   "cell_type": "code",
   "execution_count": 174,
   "metadata": {},
   "outputs": [
    {
     "data": {
      "text/plain": [
       "['10-02-2018_12:30', '10-02-2018_12:15', '10-02-2016_12:30']"
      ]
     },
     "execution_count": 174,
     "metadata": {},
     "output_type": "execute_result"
    }
   ],
   "source": [
    "sort_dates([\"10-02-2018_12:30\", \"10-02-2016_12:30\", \"10-02-2018_12:15\"], \"DSC\")"
   ]
  },
  {
   "cell_type": "code",
   "execution_count": 175,
   "metadata": {},
   "outputs": [
    {
     "data": {
      "text/plain": [
       "['01-01-1999_00:55', '09-02-2000_10:03', '10-02-2000_18:29']"
      ]
     },
     "execution_count": 175,
     "metadata": {},
     "output_type": "execute_result"
    }
   ],
   "source": [
    "sort_dates([\"09-02-2000_10:03\", \"10-02-2000_18:29\", \"01-01-1999_00:55\"], \"ASC\")"
   ]
  },
  {
   "cell_type": "code",
   "execution_count": null,
   "metadata": {},
   "outputs": [],
   "source": []
  },
  {
   "cell_type": "code",
   "execution_count": null,
   "metadata": {},
   "outputs": [],
   "source": []
  },
  {
   "cell_type": "code",
   "execution_count": null,
   "metadata": {},
   "outputs": [],
   "source": [
    "5. Write a function that selects all words that have all the same vowels (in any order and/or number) as the first word, including the first word.\n",
    "\n",
    "Examples\n",
    "\n",
    "same_vowel_group([\"toe\", \"ocelot\", \"maniac\"]) ➞ [\"toe\", \"ocelot\"]\n",
    "\n",
    "same_vowel_group([\"many\", \"carriage\", \"emit\", \"apricot\", \"animal\"]) ➞ [\"many\"]\n",
    "\n",
    "same_vowel_group([\"hoops\", \"chuff\", \"bot\", \"bottom\"]) ➞ [\"hoops\", \"bot\", \"bottom\"]\n",
    "\n"
   ]
  },
  {
   "cell_type": "code",
   "execution_count": 193,
   "metadata": {},
   "outputs": [],
   "source": [
    "import re\n",
    "def get_vowel(string):\n",
    "    temp=[]\n",
    "    for char in string:\n",
    "        if char in \"aeiouAEIOU\":\n",
    "            temp.append(char)\n",
    "    return temp        \n",
    "            \n",
    "def same_vowel_group(l):\n",
    "    \n",
    "    word = get_vowel(l[0])\n",
    "    res=[l[0]]\n",
    "\n",
    "    for j in word:\n",
    "        for i in range(1,len(l)):\n",
    "        \n",
    "            if j in l[i] and not l[i] in res:\n",
    "                res.append(l[i])\n",
    "                break\n",
    "    \n",
    "    print(res)\n",
    "    "
   ]
  },
  {
   "cell_type": "code",
   "execution_count": 194,
   "metadata": {},
   "outputs": [
    {
     "name": "stdout",
     "output_type": "stream",
     "text": [
      "['toe', 'ocelot']\n"
     ]
    }
   ],
   "source": [
    "same_vowel_group([\"toe\", \"ocelot\", \"maniac\"])"
   ]
  },
  {
   "cell_type": "code",
   "execution_count": 195,
   "metadata": {},
   "outputs": [
    {
     "name": "stdout",
     "output_type": "stream",
     "text": [
      "['many', 'carriage']\n"
     ]
    }
   ],
   "source": [
    "same_vowel_group([\"many\", \"carriage\", \"emit\", \"apricot\", \"animal\"]) "
   ]
  },
  {
   "cell_type": "markdown",
   "metadata": {},
   "source": [
    "6. Create a function that takes a list of more than three numbers and returns the Least Common Multiple (LCM).\n",
    "\n",
    "Examples\n",
    "\n",
    "lcm_of_list([1, 2, 3, 4, 5, 6, 7, 8, 9, 10]) ➞ 2520\n",
    "\n",
    "lcm_of_list([13, 6, 17, 18, 19, 20, 37]) ➞ 27965340\n",
    "\n",
    "lcm_of_list([44, 64, 12, 17, 65]) ➞ 2333760\n"
   ]
  },
  {
   "cell_type": "code",
   "execution_count": 201,
   "metadata": {},
   "outputs": [],
   "source": [
    "import math\n",
    "\n",
    "# function to calculate LCM\n",
    "def lcm_of_list(a):\n",
    "    lcm = a[0]\n",
    "    for i in range(1,len(a)):\n",
    "        lcm = lcm*a[i] // math.gcd(lcm_of_list, a[i])\n",
    "    return lcm"
   ]
  },
  {
   "cell_type": "code",
   "execution_count": 202,
   "metadata": {},
   "outputs": [
    {
     "ename": "TypeError",
     "evalue": "'function' object cannot be interpreted as an integer",
     "output_type": "error",
     "traceback": [
      "\u001b[0;31m---------------------------------------------------------------------------\u001b[0m",
      "\u001b[0;31mTypeError\u001b[0m                                 Traceback (most recent call last)",
      "\u001b[0;32m<ipython-input-202-c172b0d5a423>\u001b[0m in \u001b[0;36m<module>\u001b[0;34m\u001b[0m\n\u001b[0;32m----> 1\u001b[0;31m \u001b[0mlcm_of_list\u001b[0m\u001b[0;34m(\u001b[0m\u001b[0;34m[\u001b[0m\u001b[0;36m1\u001b[0m\u001b[0;34m,\u001b[0m \u001b[0;36m2\u001b[0m\u001b[0;34m,\u001b[0m \u001b[0;36m3\u001b[0m\u001b[0;34m,\u001b[0m \u001b[0;36m4\u001b[0m\u001b[0;34m,\u001b[0m \u001b[0;36m5\u001b[0m\u001b[0;34m,\u001b[0m \u001b[0;36m6\u001b[0m\u001b[0;34m,\u001b[0m \u001b[0;36m7\u001b[0m\u001b[0;34m,\u001b[0m \u001b[0;36m8\u001b[0m\u001b[0;34m,\u001b[0m \u001b[0;36m9\u001b[0m\u001b[0;34m,\u001b[0m \u001b[0;36m10\u001b[0m\u001b[0;34m]\u001b[0m\u001b[0;34m)\u001b[0m\u001b[0;34m\u001b[0m\u001b[0;34m\u001b[0m\u001b[0m\n\u001b[0m",
      "\u001b[0;32m<ipython-input-201-6b29c2fc6063>\u001b[0m in \u001b[0;36mlcm_of_list\u001b[0;34m(a)\u001b[0m\n\u001b[1;32m      5\u001b[0m     \u001b[0mlcm\u001b[0m \u001b[0;34m=\u001b[0m \u001b[0ma\u001b[0m\u001b[0;34m[\u001b[0m\u001b[0;36m0\u001b[0m\u001b[0;34m]\u001b[0m\u001b[0;34m\u001b[0m\u001b[0;34m\u001b[0m\u001b[0m\n\u001b[1;32m      6\u001b[0m     \u001b[0;32mfor\u001b[0m \u001b[0mi\u001b[0m \u001b[0;32min\u001b[0m \u001b[0mrange\u001b[0m\u001b[0;34m(\u001b[0m\u001b[0;36m1\u001b[0m\u001b[0;34m,\u001b[0m\u001b[0mlen\u001b[0m\u001b[0;34m(\u001b[0m\u001b[0ma\u001b[0m\u001b[0;34m)\u001b[0m\u001b[0;34m)\u001b[0m\u001b[0;34m:\u001b[0m\u001b[0;34m\u001b[0m\u001b[0;34m\u001b[0m\u001b[0m\n\u001b[0;32m----> 7\u001b[0;31m         \u001b[0mlcm\u001b[0m \u001b[0;34m=\u001b[0m \u001b[0mlcm\u001b[0m\u001b[0;34m*\u001b[0m\u001b[0ma\u001b[0m\u001b[0;34m[\u001b[0m\u001b[0mi\u001b[0m\u001b[0;34m]\u001b[0m \u001b[0;34m//\u001b[0m \u001b[0mmath\u001b[0m\u001b[0;34m.\u001b[0m\u001b[0mgcd\u001b[0m\u001b[0;34m(\u001b[0m\u001b[0mlcm_of_list\u001b[0m\u001b[0;34m,\u001b[0m \u001b[0ma\u001b[0m\u001b[0;34m[\u001b[0m\u001b[0mi\u001b[0m\u001b[0;34m]\u001b[0m\u001b[0;34m)\u001b[0m\u001b[0;34m\u001b[0m\u001b[0;34m\u001b[0m\u001b[0m\n\u001b[0m\u001b[1;32m      8\u001b[0m     \u001b[0;32mreturn\u001b[0m \u001b[0mlcm\u001b[0m\u001b[0;34m\u001b[0m\u001b[0;34m\u001b[0m\u001b[0m\n",
      "\u001b[0;31mTypeError\u001b[0m: 'function' object cannot be interpreted as an integer"
     ]
    }
   ],
   "source": [
    "lcm_of_list([1, 2, 3, 4, 5, 6, 7, 8, 9, 10])"
   ]
  },
  {
   "cell_type": "code",
   "execution_count": null,
   "metadata": {},
   "outputs": [],
   "source": []
  }
 ],
 "metadata": {
  "kernelspec": {
   "display_name": "Python 3",
   "language": "python",
   "name": "python3"
  },
  "language_info": {
   "codemirror_mode": {
    "name": "ipython",
    "version": 3
   },
   "file_extension": ".py",
   "mimetype": "text/x-python",
   "name": "python",
   "nbconvert_exporter": "python",
   "pygments_lexer": "ipython3",
   "version": "3.8.3"
  }
 },
 "nbformat": 4,
 "nbformat_minor": 4
}
