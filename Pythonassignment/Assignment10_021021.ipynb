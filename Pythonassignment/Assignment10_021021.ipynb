{
 "cells": [
  {
   "cell_type": "markdown",
   "metadata": {},
   "source": [
    "1. Create a function that takes the width, height and character and returns a\n",
    "picture frame as a 2D list.\n",
    "Examples\n",
    "get_frame(4, 5, &quot;#&quot;) ➞ [\n",
    "[&quot;####&quot;],\n",
    "[&quot;# #&quot;],\n",
    "[&quot;# #&quot;],\n",
    "[&quot;# #&quot;],\n",
    "[&quot;####&quot;]\n",
    "]\n",
    "#### Frame is 4 characters wide and 5 characters tall.\n",
    "\n",
    "get_frame(10, 3, &quot;*&quot;) ➞ [\n",
    "[&quot;**********&quot;],\n",
    "[&quot;* *&quot;],\n",
    "[&quot;**********&quot;]\n",
    "]\n",
    "##### Frame is 10 characters and wide and 3 characters tall.\n",
    "\n",
    "get_frame(2, 5, &quot;0&quot;) ➞ &quot;invalid&quot;\n",
    "##### Frame&#39;s width is not more than 2."
   ]
  },
  {
   "cell_type": "code",
   "execution_count": 64,
   "metadata": {},
   "outputs": [],
   "source": [
    "def get_frame(width,height,char):\n",
    "    if(width <= 2):\n",
    "        return print(\"Invalid\")\n",
    "    else :\n",
    "        b =[]\n",
    "        for i in range(1,height+1):\n",
    "            c=\"\"\n",
    "            print(c)\n",
    "            for j in range(0, width):\n",
    "                \n",
    "                if i == 1 or i == height:\n",
    "                    c=c+(char)\n",
    "                else :\n",
    "                    if(j == 0 or j == width-1):\n",
    "                        c=c+(char)\n",
    "                    else :\n",
    "                        c=c+(\" \")\n",
    "            \n",
    "            b.append([c])            \n",
    "        print(b)        "
   ]
  },
  {
   "cell_type": "code",
   "execution_count": 69,
   "metadata": {},
   "outputs": [
    {
     "name": "stdout",
     "output_type": "stream",
     "text": [
      "\n",
      "\n",
      "\n",
      "[['**********'], ['*        *'], ['**********']]\n"
     ]
    }
   ],
   "source": [
    "get_frame(10, 3, \"*\")"
   ]
  },
  {
   "cell_type": "code",
   "execution_count": 66,
   "metadata": {},
   "outputs": [
    {
     "name": "stdout",
     "output_type": "stream",
     "text": [
      "Invalid\n"
     ]
    }
   ],
   "source": [
    "get_frame(2, 5, \"#\")"
   ]
  },
  {
   "cell_type": "code",
   "execution_count": 70,
   "metadata": {},
   "outputs": [
    {
     "name": "stdout",
     "output_type": "stream",
     "text": [
      "\n",
      "\n",
      "\n",
      "\n",
      "\n",
      "[['####'], ['#  #'], ['#  #'], ['#  #'], ['####']]\n"
     ]
    }
   ],
   "source": [
    "get_frame(4, 5, \"#\")"
   ]
  },
  {
   "cell_type": "markdown",
   "metadata": {},
   "source": [
    "2. Write three functions:\n",
    "1. boolean_and\n",
    "2. boolean_or\n",
    "3. boolean_xor\n",
    "These functions should evaluate a list of True and False values, starting from\n",
    "the leftmost element and evaluating pairwise.\n",
    "Examples\n",
    "boolean_and([True, True, False, True]) ➞ False\n",
    "##### [True, True, False, True] =&gt; [True, False, True] =&gt; [False, True] =&gt; False\n",
    "boolean_or([True, True, False, False]) ➞ True\n",
    "##### [True, True, False, True] =&gt; [True, False, False] =&gt; [True, False] =&gt; True\n",
    "boolean_xor([True, True, False, False]) ➞ False\n",
    "#### [True, True, False, False] =&gt; [False, False, False] =&gt; [False, False] =&gt;\n",
    "False"
   ]
  },
  {
   "cell_type": "code",
   "execution_count": 90,
   "metadata": {},
   "outputs": [],
   "source": [
    "def boolean_and(l):\n",
    "    res = False\n",
    "    for i in range(0,len(l)-1):\n",
    "        res =l[i] and l[i+1] \n",
    "    print(res)   \n",
    "def boolean_xor(l):\n",
    "    res = False\n",
    "    for i in range(0,len(l)-1):\n",
    "        res = not(l[i] or l[i+1]) \n",
    "    print(res)\n",
    "def boolean_or(l):\n",
    "    res = False\n",
    "    for i in range(0,len(l)-1):\n",
    "        res =l[i] or l[i+1] \n",
    "    print(res)    "
   ]
  },
  {
   "cell_type": "code",
   "execution_count": 91,
   "metadata": {},
   "outputs": [
    {
     "name": "stdout",
     "output_type": "stream",
     "text": [
      "False\n"
     ]
    }
   ],
   "source": [
    "boolean_and([True, True, False, True])"
   ]
  },
  {
   "cell_type": "code",
   "execution_count": 92,
   "metadata": {},
   "outputs": [
    {
     "name": "stdout",
     "output_type": "stream",
     "text": [
      "True\n"
     ]
    }
   ],
   "source": [
    "boolean_xor([True, True, False, False])"
   ]
  },
  {
   "cell_type": "code",
   "execution_count": 93,
   "metadata": {},
   "outputs": [
    {
     "name": "stdout",
     "output_type": "stream",
     "text": [
      "False\n"
     ]
    }
   ],
   "source": [
    "boolean_or([True, True, False, False])"
   ]
  },
  {
   "cell_type": "code",
   "execution_count": null,
   "metadata": {},
   "outputs": [],
   "source": []
  },
  {
   "cell_type": "markdown",
   "metadata": {},
   "source": [
    "3. Create a function that creates a box based on dimension n.\n",
    "Examples\n",
    "make_box(5) ➞ [\n",
    "&quot;#####&quot;,\n",
    "&quot;# #&quot;,\n",
    "&quot;# #&quot;,\n",
    "&quot;# #&quot;,\n",
    "&quot;#####&quot;\n",
    "]\n",
    "make_box(3) ➞ [\n",
    "&quot;###&quot;,\n",
    "&quot;# #&quot;,\n",
    "&quot;###&quot;\n",
    "]\n",
    "make_box(2) ➞ [\n",
    "&quot;##&quot;,\n",
    "&quot;##&quot;\n",
    "]\n",
    "make_box(1) ➞ [\n",
    "&quot;#&quot;\n",
    "]"
   ]
  },
  {
   "cell_type": "code",
   "execution_count": 114,
   "metadata": {},
   "outputs": [],
   "source": [
    "def make_box(no):\n",
    "    l =[]\n",
    "    for i in range(0,no):\n",
    "        a=\"\"\n",
    "        for j in range(0,no):\n",
    "            \n",
    "            if i == 0 or i == no-1:\n",
    "                a=a+\"#\"\n",
    "            else :\n",
    "                if(j == 0 or j == no-1):\n",
    "                    a=a+(\"#\")\n",
    "                else :\n",
    "                    a=a+(\" \")\n",
    "        l.append(a) \n",
    "        \n",
    "    print(l)  \n",
    "        "
   ]
  },
  {
   "cell_type": "code",
   "execution_count": 115,
   "metadata": {},
   "outputs": [
    {
     "name": "stdout",
     "output_type": "stream",
     "text": [
      "['#####', '#   #', '#   #', '#   #', '#####']\n"
     ]
    }
   ],
   "source": [
    "make_box(5)"
   ]
  },
  {
   "cell_type": "code",
   "execution_count": 116,
   "metadata": {},
   "outputs": [
    {
     "name": "stdout",
     "output_type": "stream",
     "text": [
      "['#']\n"
     ]
    }
   ],
   "source": [
    "make_box(1)"
   ]
  },
  {
   "cell_type": "code",
   "execution_count": 117,
   "metadata": {},
   "outputs": [
    {
     "name": "stdout",
     "output_type": "stream",
     "text": [
      "['###', '# #', '###']\n"
     ]
    }
   ],
   "source": [
    "make_box(3)"
   ]
  },
  {
   "cell_type": "markdown",
   "metadata": {},
   "source": [
    "4. Given a common phrase, return False if any individual word in the phrase\n",
    "contains duplicate letters. Return True otherwise.\n",
    "Examples\n",
    "no_duplicate_letters(&quot;Fortune favours the bold.&quot;) ➞ True\n",
    "no_duplicate_letters(&quot;You can lead a horse to water, but you can&#39;t make him\n",
    "drink.&quot;) ➞ True\n",
    "no_duplicate_letters(&quot;Look before you leap.&quot;) ➞ False\n",
    "##### Duplicate letters in &quot;Look&quot; and &quot;before&quot;.\n",
    "no_duplicate_letters(&quot;An apple a day keeps the doctor away.&quot;) ➞ False\n",
    "##### Duplicate letters in &quot;apple&quot;, &quot;keeps&quot;, &quot;doctor&quot;, and &quot;away&quot;."
   ]
  },
  {
   "cell_type": "code",
   "execution_count": 147,
   "metadata": {},
   "outputs": [],
   "source": [
    "def no_duplicate_letters(str):\n",
    "    a = str.split(\" \")\n",
    "    for i in a:\n",
    "\n",
    "        for k in range(len(a)):\n",
    "            for j in range(k + 1,len(i)):\n",
    "                if(i[k] == i[j]):\n",
    "                    return False;\n",
    "    return True        "
   ]
  },
  {
   "cell_type": "code",
   "execution_count": 148,
   "metadata": {},
   "outputs": [
    {
     "data": {
      "text/plain": [
       "False"
      ]
     },
     "execution_count": 148,
     "metadata": {},
     "output_type": "execute_result"
    }
   ],
   "source": [
    "no_duplicate_letters(\"Look before you leap\")"
   ]
  },
  {
   "cell_type": "code",
   "execution_count": 149,
   "metadata": {},
   "outputs": [
    {
     "data": {
      "text/plain": [
       "False"
      ]
     },
     "execution_count": 149,
     "metadata": {},
     "output_type": "execute_result"
    }
   ],
   "source": [
    "no_duplicate_letters(\"An apple a day keeps the doctor away\")"
   ]
  },
  {
   "cell_type": "code",
   "execution_count": 150,
   "metadata": {},
   "outputs": [
    {
     "data": {
      "text/plain": [
       "True"
      ]
     },
     "execution_count": 150,
     "metadata": {},
     "output_type": "execute_result"
    }
   ],
   "source": [
    "no_duplicate_letters(\"Fortune favours the bold\")"
   ]
  },
  {
   "cell_type": "markdown",
   "metadata": {},
   "source": [
    "5. Write a regular expression that will match the states that voted yes to\n",
    "President Trump&#39;s impeachment. You must use RegEx positive lookahead.\n",
    "Example\n",
    "txt = &quot;Texas = no, California = yes, Florida = yes, Michigan = no&quot;\n",
    "pattern = &quot;yourregularexpressionhere&quot;\n",
    "re.findall(pattern, txt) ➞ [&quot;California&quot;, &quot;Florida&quot;]"
   ]
  },
  {
   "cell_type": "code",
   "execution_count": 213,
   "metadata": {},
   "outputs": [
    {
     "name": "stdout",
     "output_type": "stream",
     "text": [
      "California\n",
      "Florida\n"
     ]
    }
   ],
   "source": [
    "import re\n",
    "\n",
    "regex = r\"\\w+(?=\\s(=\\syes)\\b)\"\n",
    "\n",
    "test_str = \"Texas = no, California = yes, Florida = yes, Michigan = no\"\n",
    "\n",
    "matches = re.finditer(regex, test_str)\n",
    "\n",
    "for matchNum, match in enumerate(matches, start=1):\n",
    "    print(match.group())"
   ]
  },
  {
   "cell_type": "code",
   "execution_count": null,
   "metadata": {},
   "outputs": [],
   "source": []
  },
  {
   "cell_type": "code",
   "execution_count": null,
   "metadata": {},
   "outputs": [],
   "source": []
  }
 ],
 "metadata": {
  "kernelspec": {
   "display_name": "Python 3",
   "language": "python",
   "name": "python3"
  },
  "language_info": {
   "codemirror_mode": {
    "name": "ipython",
    "version": 3
   },
   "file_extension": ".py",
   "mimetype": "text/x-python",
   "name": "python",
   "nbconvert_exporter": "python",
   "pygments_lexer": "ipython3",
   "version": "3.8.3"
  }
 },
 "nbformat": 4,
 "nbformat_minor": 4
}
