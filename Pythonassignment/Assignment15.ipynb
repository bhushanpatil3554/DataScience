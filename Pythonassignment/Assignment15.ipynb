{
 "cells": [
  {
   "cell_type": "code",
   "execution_count": 6,
   "metadata": {},
   "outputs": [],
   "source": [
    "def check(s1, s2):\n",
    "     \n",
    "    # the sorted strings are checked\n",
    "    print(sorted(s1), sorted(s2))\n",
    "    if(sorted(s1)== sorted(s2)):\n",
    "        print(\"The strings are anagrams.\")\n",
    "    else:\n",
    "        print(\"The strings aren't anagrams.\")   "
   ]
  },
  {
   "cell_type": "markdown",
   "metadata": {},
   "source": [
    "1. Write a function that returns True if a given name can generate an array of\n",
    "words.\n",
    "Examples\n",
    "anagram(&quot;Justin Bieber&quot;, [&quot;injures&quot;, &quot;ebb&quot;, &quot;it&quot;]) ➞ True\n",
    "anagram(&quot;Natalie Portman&quot;, [&quot;ornamental&quot;, &quot;pita&quot;]) ➞ True\n",
    "anagram(&quot;Chris Pratt&quot;, [&quot;chirps&quot;, &quot;rat&quot;]) ➞ False\n",
    "#### Not all letters are used\n",
    "anagram(&quot;Jeff Goldblum&quot;, [&quot;jog&quot;, &quot;meld&quot;, &quot;bluffs&quot;]) ➞ False\n",
    "#### &quot;s&quot; does not exist in the original name"
   ]
  },
  {
   "cell_type": "code",
   "execution_count": 20,
   "metadata": {},
   "outputs": [],
   "source": [
    "def anagram(str1,l):\n",
    "    str2 =\"\"\n",
    "    for i in l:\n",
    "        str2=str2 + (i)\n",
    "    print(str1,str2)    \n",
    "    if sorted(str1.lower().replace(\" \",\"\")) == sorted(str2.lower()):\n",
    "        return True\n",
    "    else :\n",
    "        return False"
   ]
  },
  {
   "cell_type": "code",
   "execution_count": 21,
   "metadata": {},
   "outputs": [
    {
     "name": "stdout",
     "output_type": "stream",
     "text": [
      "Justin Bieber injuresebbit\n"
     ]
    },
    {
     "data": {
      "text/plain": [
       "True"
      ]
     },
     "execution_count": 21,
     "metadata": {},
     "output_type": "execute_result"
    }
   ],
   "source": [
    "anagram(\"Justin Bieber\",[\"injures\", \"ebb\", \"it\"])"
   ]
  },
  {
   "cell_type": "code",
   "execution_count": 22,
   "metadata": {},
   "outputs": [
    {
     "name": "stdout",
     "output_type": "stream",
     "text": [
      "Natalie Portman ornamentalpita\n"
     ]
    },
    {
     "data": {
      "text/plain": [
       "True"
      ]
     },
     "execution_count": 22,
     "metadata": {},
     "output_type": "execute_result"
    }
   ],
   "source": [
    "anagram(\"Natalie Portman\", [\"ornamental\", \"pita\"])"
   ]
  },
  {
   "cell_type": "code",
   "execution_count": 23,
   "metadata": {},
   "outputs": [
    {
     "name": "stdout",
     "output_type": "stream",
     "text": [
      "Chris Pratt chirpsrat\n"
     ]
    },
    {
     "data": {
      "text/plain": [
       "False"
      ]
     },
     "execution_count": 23,
     "metadata": {},
     "output_type": "execute_result"
    }
   ],
   "source": [
    "anagram('Chris Pratt', ['chirps', 'rat'])"
   ]
  },
  {
   "cell_type": "code",
   "execution_count": 24,
   "metadata": {},
   "outputs": [
    {
     "name": "stdout",
     "output_type": "stream",
     "text": [
      "Jeff Goldblum jogmeldbluffs\n"
     ]
    },
    {
     "data": {
      "text/plain": [
       "False"
      ]
     },
     "execution_count": 24,
     "metadata": {},
     "output_type": "execute_result"
    }
   ],
   "source": [
    "anagram('Jeff Goldblum', ['jog', 'meld', 'bluffs'])"
   ]
  },
  {
   "cell_type": "markdown",
   "metadata": {},
   "source": [
    "2. Given an array of users, each defined by an object with the following\n",
    "properties: name, score, reputation create a function that sorts the array to\n",
    "form the correct leaderboard.\n",
    "The leaderboard takes into consideration the score of each user of course,\n",
    "but an emphasis is put on their reputation in the community, so to get the\n",
    "trueScore, you should add the reputation multiplied by 2 to the score.\n",
    "Once you know the trueScore of each user, sort the array according to it in\n",
    "descending order.\n",
    "Examples\n",
    "leaderboards([\n",
    "{ 'name': 'a', 'score': 100, 'reputation': 20 },\n",
    "{ 'name': 'b', 'score': 90, 'reputation': 40 },\n",
    "{ 'name': 'c', 'score': 115, 'reputation': 30 },\n",
    "]) ➞ [\n",
    "{ 'name': 'c', 'score': 115, 'reputation': 30 }, # trueScore = 175\n",
    "{ 'name': 'b', 'score': 90, 'reputation': 40 }, # trueScore = 170\n",
    "{ 'name': 'a', 'score': 100, 'reputation': 20 } # trueScore = 140"
   ]
  },
  {
   "cell_type": "code",
   "execution_count": 54,
   "metadata": {},
   "outputs": [],
   "source": [
    "def leaderboards(l):\n",
    "    dict1 = {}\n",
    "    for i in l:\n",
    "        dict1[i['reputation']*2 + i['score']] = i\n",
    "    dict2 = sorted(dict1, reverse=True)\n",
    "    newL=[]\n",
    "    for d in dict2:\n",
    "        newL.append(dict1[d])\n",
    "    print(newL)    "
   ]
  },
  {
   "cell_type": "code",
   "execution_count": 55,
   "metadata": {},
   "outputs": [
    {
     "name": "stdout",
     "output_type": "stream",
     "text": [
      "[{'name': 'c', 'score': 115, 'reputation': 30}, {'name': 'b', 'score': 90, 'reputation': 40}, {'name': 'a', 'score': 100, 'reputation': 20}]\n"
     ]
    }
   ],
   "source": [
    "leaderboards([\n",
    "{ 'name': 'a', 'score': 100, 'reputation': 20 },\n",
    "{ 'name': 'b', 'score': 90, 'reputation': 40 },\n",
    "{ 'name': 'c', 'score': 115, 'reputation': 30 },\n",
    "]) "
   ]
  },
  {
   "cell_type": "code",
   "execution_count": null,
   "metadata": {},
   "outputs": [],
   "source": []
  },
  {
   "cell_type": "markdown",
   "metadata": {},
   "source": [
    "3. Create a function that, given a phrase and a number of letters guessed,\n",
    "returns a string with hyphens - for every letter of the phrase not guessed, and\n",
    "each letter guessed in place.\n",
    "Examples\n",
    "hangman('helicopter', ['o', 'e', 's']) ➞ '-e---o--e-'\n",
    "\n",
    "hangman('tree', ['r', 't', 'e']) ➞ 'tree'\n",
    "hangman('Python rules', ['a', 'n', 'p', 'r', 'z']) ➞ 'P----n r----'\n",
    "hangman('He's a very naughty boy!', ['e', 'a', 'y']) ➞ '-e'- a -e-y -a----y –y!'"
   ]
  },
  {
   "cell_type": "code",
   "execution_count": 92,
   "metadata": {},
   "outputs": [],
   "source": [
    "import re\n",
    "def hangman(string,l):\n",
    "    newStr=\"\"\n",
    "    regex = re.compile('[@_!#$%^&*()<>?/\\|}{~:\\']')\n",
    "    for i in string:\n",
    "        flag =False\n",
    "        for j in l:\n",
    "            if j.casefold() == i.casefold() or i == \" \":\n",
    "                flag =True \n",
    "                break\n",
    "        if not flag:\n",
    "            if regex.search(i) == None:\n",
    "                newStr = newStr+\"-\"\n",
    "            else:\n",
    "                \n",
    "                newStr = newStr+i\n",
    "            \n",
    "        else :\n",
    "            newStr = newStr+i\n",
    "    print(newStr)            \n",
    "        "
   ]
  },
  {
   "cell_type": "code",
   "execution_count": 93,
   "metadata": {},
   "outputs": [
    {
     "name": "stdout",
     "output_type": "stream",
     "text": [
      "-e---o--e-\n"
     ]
    }
   ],
   "source": [
    "hangman('helicopter', ['o', 'e', 's'])"
   ]
  },
  {
   "cell_type": "code",
   "execution_count": 94,
   "metadata": {},
   "outputs": [
    {
     "name": "stdout",
     "output_type": "stream",
     "text": [
      "tree\n"
     ]
    }
   ],
   "source": [
    "hangman('tree', ['r', 't', 'e'])"
   ]
  },
  {
   "cell_type": "code",
   "execution_count": 95,
   "metadata": {},
   "outputs": [
    {
     "name": "stdout",
     "output_type": "stream",
     "text": [
      "P----n r----\n"
     ]
    }
   ],
   "source": [
    "hangman('Python rules', ['a', 'n', 'p', 'r', 'z'])"
   ]
  },
  {
   "cell_type": "code",
   "execution_count": 96,
   "metadata": {},
   "outputs": [
    {
     "name": "stdout",
     "output_type": "stream",
     "text": [
      "-e'- a -e-y -a----y --y!\n"
     ]
    }
   ],
   "source": [
    "hangman(\"He's a very naughty boy!\", ['e', 'a', 'y'])"
   ]
  },
  {
   "cell_type": "markdown",
   "metadata": {},
   "source": [
    "4. The Collatz sequence is as follows:\n",
    "\n",
    "  - Start with some given integer n.\n",
    "  - If it is even, the next number will be n divided by 2.\n",
    "  - If it is odd, multiply it by 3 and add 1 to make the next number.\n",
    "  - The sequence stops when it reaches 1.\n",
    "\n",
    "According to the Collatz conjecture, it will always reach 1. If that's true, you can construct a finite sequence following the aforementioned method for any given integer.\n",
    "\n",
    "Write a function that takes in an integer n and returns the highest integer in the corresponding Collatz sequence.\n",
    "\n",
    "Examples\n",
    "\n",
    "max_collatz(10) ➞ 16\n",
    "#### Collatz sequence: 10, 5, 16, 8, 4, 2, 1\n",
    "\n",
    "max_collatz(32) ➞ 32\n",
    "#### Collatz sequence: 32, 16, 8, 4, 2, 1\n",
    "\n",
    "max_collatz(85) ➞ 256\n",
    "#### Collatz sequence: 85, 256, 128, 64, 32, 16, 8, 4, 2, 1\n"
   ]
  },
  {
   "cell_type": "code",
   "execution_count": 98,
   "metadata": {},
   "outputs": [
    {
     "name": "stdout",
     "output_type": "stream",
     "text": [
      "The length of collatz sequence is 7\n",
      "The sequence is :\n",
      "10\n",
      "5\n",
      "16\n",
      "8\n",
      "4\n",
      "2\n",
      "1\n"
     ]
    }
   ],
   "source": [
    "def collatz_sequence(n):\n",
    "    collatz_list=list() #list to store the values of sequence\n",
    "    \n",
    "    while (n!=1) :\n",
    "        collatz_list.append(n) \n",
    "        #if n is even\n",
    "        if (n%2==0) :\n",
    "            n=n//2\n",
    "        else:\n",
    "          #if n is odd\n",
    "            n=(3*n)+1\n",
    "    collatz_list.append(1)  #print 1 in the end   \n",
    "    l=len(collatz_list)\n",
    "\n",
    "    print(\"The length of collatz sequence is\", l)\n",
    "    print(\"The sequence is :\")\n",
    "    for i in range(0,l):\n",
    "        print(collatz_list[i])\n",
    "\n",
    "#driver code  \n",
    "collatz_sequence(10)"
   ]
  },
  {
   "cell_type": "code",
   "execution_count": 99,
   "metadata": {},
   "outputs": [
    {
     "name": "stdout",
     "output_type": "stream",
     "text": [
      "The length of collatz sequence is 6\n",
      "The sequence is :\n",
      "32\n",
      "16\n",
      "8\n",
      "4\n",
      "2\n",
      "1\n"
     ]
    }
   ],
   "source": [
    "collatz_sequence(32)"
   ]
  },
  {
   "cell_type": "code",
   "execution_count": 100,
   "metadata": {},
   "outputs": [
    {
     "name": "stdout",
     "output_type": "stream",
     "text": [
      "The length of collatz sequence is 10\n",
      "The sequence is :\n",
      "85\n",
      "256\n",
      "128\n",
      "64\n",
      "32\n",
      "16\n",
      "8\n",
      "4\n",
      "2\n",
      "1\n"
     ]
    }
   ],
   "source": [
    "collatz_sequence(85)"
   ]
  },
  {
   "cell_type": "markdown",
   "metadata": {},
   "source": [
    "5. Write a function that sorts a list of integers by their digit length in descending order, then settles ties by sorting numbers with the same digit length in ascending order.\n",
    "\n",
    "Examples\n",
    "\n",
    "digit_sort([77, 23, 5, 7, 101])\n",
    "➞ [101, 23, 77, 5, 7]\n",
    "\n",
    "digit_sort([1, 5, 9, 2, 789, 563, 444])\n",
    "➞ [444, 563, 789, 1, 2, 5, 9]\n",
    "\n",
    "digit_sort([53219, 3772, 564, 32, 1])\n",
    "➞ [53219, 3772, 564, 32, 1]\n"
   ]
  },
  {
   "cell_type": "code",
   "execution_count": 110,
   "metadata": {},
   "outputs": [],
   "source": [
    "def digit_sort(l):\n",
    "    newL=[]\n",
    "    newL2=[]\n",
    "    for i in l:\n",
    "        newL.append(str(i))\n",
    "    for index,i in enumerate(newL):\n",
    "        temp =i\n",
    "        if \n",
    "    print(sorted(newL, key=len,reverse=True))"
   ]
  },
  {
   "cell_type": "code",
   "execution_count": 111,
   "metadata": {},
   "outputs": [
    {
     "name": "stdout",
     "output_type": "stream",
     "text": [
      "['101', '77', '23', '5', '7']\n"
     ]
    }
   ],
   "source": [
    "digit_sort([77, 23, 5, 7, 101])"
   ]
  },
  {
   "cell_type": "code",
   "execution_count": null,
   "metadata": {},
   "outputs": [],
   "source": []
  }
 ],
 "metadata": {
  "kernelspec": {
   "display_name": "Python 3",
   "language": "python",
   "name": "python3"
  },
  "language_info": {
   "codemirror_mode": {
    "name": "ipython",
    "version": 3
   },
   "file_extension": ".py",
   "mimetype": "text/x-python",
   "name": "python",
   "nbconvert_exporter": "python",
   "pygments_lexer": "ipython3",
   "version": "3.8.3"
  }
 },
 "nbformat": 4,
 "nbformat_minor": 4
}
