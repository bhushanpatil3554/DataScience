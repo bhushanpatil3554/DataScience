{
 "cells": [
  {
   "cell_type": "markdown",
   "metadata": {},
   "source": [
    "1. Given a list of numbers, create a function that removes 25% from every\n",
    "number in the list except the smallest number, and adds the total amount\n",
    "removed to the smallest number.\n",
    "Examples\n",
    "show_the_love([4, 1, 4]) ➞ [3, 3, 3]\n",
    "show_the_love([16, 10, 8]) ➞ [12, 7.5, 14.5]\n",
    "show_the_love([2, 100]) ➞ [27, 75]"
   ]
  },
  {
   "cell_type": "code",
   "execution_count": 3,
   "metadata": {},
   "outputs": [],
   "source": [
    "def show_the_love(l):\n",
    "    min_no = min(l)\n",
    "    addition = 0\n",
    "    newList = []\n",
    "    minIndex = 0\n",
    "    for index,i in enumerate(l):\n",
    "        if min_no == i:\n",
    "            minIndex = index\n",
    "        else:\n",
    "            addition = addition+ l[index] * 1/4\n",
    "            l[index] = l[index]*3/4\n",
    "    l[minIndex] = l[minIndex] + addition\n",
    "    return l\n",
    "            "
   ]
  },
  {
   "cell_type": "code",
   "execution_count": 4,
   "metadata": {},
   "outputs": [
    {
     "data": {
      "text/plain": [
       "[3.0, 3.0, 3.0]"
      ]
     },
     "execution_count": 4,
     "metadata": {},
     "output_type": "execute_result"
    }
   ],
   "source": [
    "show_the_love([4, 1, 4])"
   ]
  },
  {
   "cell_type": "code",
   "execution_count": 5,
   "metadata": {},
   "outputs": [
    {
     "data": {
      "text/plain": [
       "[12.0, 7.5, 14.5]"
      ]
     },
     "execution_count": 5,
     "metadata": {},
     "output_type": "execute_result"
    }
   ],
   "source": [
    "show_the_love([16, 10, 8])"
   ]
  },
  {
   "cell_type": "code",
   "execution_count": 6,
   "metadata": {},
   "outputs": [
    {
     "data": {
      "text/plain": [
       "[27.0, 75.0]"
      ]
     },
     "execution_count": 6,
     "metadata": {},
     "output_type": "execute_result"
    }
   ],
   "source": [
    "show_the_love([2, 100])"
   ]
  },
  {
   "cell_type": "markdown",
   "metadata": {},
   "source": [
    "2. Create a function that takes in two words as input and returns a list of three\n",
    "elements, in the following order:\n",
    "1.Shared letters between two words.\n",
    "2.Letters unique to word 1.\n",
    "3.Letters unique to word 2.\n",
    "Each element should have unique letters, and have each letter be\n",
    "alphabetically sorted.\n",
    "Examples\n",
    "letters(&quot;sharp&quot;, &quot;soap&quot;) ➞ [&quot;aps&quot;, &quot;hr&quot;, &quot;o&quot;]\n",
    "letters(&quot;board&quot;, &quot;bored&quot;) ➞ [&quot;bdor&quot;, &quot;a&quot;, &quot;e&quot;]\n",
    "letters(&quot;happiness&quot;, &quot;envelope&quot;) ➞ [&quot;enp&quot;, &quot;ahis&quot;, &quot;lov&quot;]\n",
    "letters(&quot;kerfuffle&quot;, &quot;fluffy&quot;) ➞ [&quot;flu&quot;, &quot;ekr&quot;, &quot;y&quot;]\n",
    "#### Even with multiple matching letters (e.g. 3 f&#39;s), there should\n",
    "#### only exist a single &quot;f&quot; in your first element.\n",
    "letters(&quot;match&quot;, &quot;ham&quot;) ➞ [&quot;ahm&quot;, &quot;ct&quot;, &quot;&quot;]\n",
    "#### &quot;ham&quot; does not contain any letters that are not found already\n",
    "#### in &quot;match&quot;."
   ]
  },
  {
   "cell_type": "code",
   "execution_count": null,
   "metadata": {},
   "outputs": [],
   "source": []
  },
  {
   "cell_type": "markdown",
   "metadata": {},
   "source": [
    "3. Write a function that pairs the first number in an array with the last, the\n",
    "second number with the second to last, etc.\n",
    "Examples\n",
    "pairs([1, 2, 3, 4, 5, 6, 7]) ➞ [[1, 7], [2, 6], [3, 5], [4, 4]]\n",
    "\n",
    "pairs([1, 2, 3, 4, 5, 6]) ➞ [[1, 6], [2, 5], [3, 4]]\n",
    "pairs([5, 9, 8, 1, 2]) ➞ [[5, 2], [9, 1], [8, 8]]\n",
    "pairs([]) ➞ []"
   ]
  },
  {
   "cell_type": "code",
   "execution_count": 30,
   "metadata": {},
   "outputs": [],
   "source": [
    "def pairs(l):\n",
    "    newl=[]\n",
    "    for index,i in enumerate(range(0,int(len(l)/2))):\n",
    "        n =[]\n",
    "        n.append(l[i])\n",
    "        n.append(l[len(l)-index-1])\n",
    "        newl.append(n)\n",
    "    if(len(l) % 2 != 0):\n",
    "        n =[]\n",
    "        n.append(l[int(len(l)/2)])\n",
    "        n.append(l[int(len(l)/2)])\n",
    "        newl.append(n)\n",
    "    return newl    "
   ]
  },
  {
   "cell_type": "code",
   "execution_count": 31,
   "metadata": {},
   "outputs": [
    {
     "data": {
      "text/plain": [
       "[[1, 7], [2, 6], [3, 5], [4, 4]]"
      ]
     },
     "execution_count": 31,
     "metadata": {},
     "output_type": "execute_result"
    }
   ],
   "source": [
    "pairs([1, 2, 3, 4, 5, 6, 7]) "
   ]
  },
  {
   "cell_type": "code",
   "execution_count": 32,
   "metadata": {},
   "outputs": [
    {
     "data": {
      "text/plain": [
       "[[1, 6], [2, 5], [3, 4]]"
      ]
     },
     "execution_count": 32,
     "metadata": {},
     "output_type": "execute_result"
    }
   ],
   "source": [
    "pairs([1, 2, 3, 4, 5, 6]) "
   ]
  },
  {
   "cell_type": "code",
   "execution_count": 33,
   "metadata": {},
   "outputs": [
    {
     "data": {
      "text/plain": [
       "[[5, 2], [9, 1], [8, 8]]"
      ]
     },
     "execution_count": 33,
     "metadata": {},
     "output_type": "execute_result"
    }
   ],
   "source": [
    "pairs([5, 9, 8, 1, 2]) "
   ]
  },
  {
   "cell_type": "code",
   "execution_count": 34,
   "metadata": {},
   "outputs": [
    {
     "data": {
      "text/plain": [
       "[]"
      ]
     },
     "execution_count": 34,
     "metadata": {},
     "output_type": "execute_result"
    }
   ],
   "source": [
    "pairs([]) "
   ]
  },
  {
   "cell_type": "markdown",
   "metadata": {},
   "source": [
    "4. Write a function that adds two numbers. The catch, however, is that the\n",
    "numbers will be strings.\n",
    "Examples\n",
    "add_str_nums(&quot;4&quot;, &quot;5&quot;) ➞ &quot;9&quot;\n",
    "ç(&quot;1&quot;, &quot;&quot;) ➞ &quot;1&quot;\n",
    "add_str_nums(&quot;1874682736267235927359283579235789257&quot;,\n",
    "&quot;32652983572985729&quot;) ➞ &quot;1874682736267235927391936562808774986&quot;"
   ]
  },
  {
   "cell_type": "code",
   "execution_count": 42,
   "metadata": {},
   "outputs": [],
   "source": [
    "def add_str_nums(no1,no2):\n",
    "    if no1 == \"\" :\n",
    "        no1=0\n",
    "    if no2 == \"\" :\n",
    "        no2=0\n",
    "    return int(no1)+ int(no2)    \n",
    "\n"
   ]
  },
  {
   "cell_type": "code",
   "execution_count": 43,
   "metadata": {},
   "outputs": [
    {
     "data": {
      "text/plain": [
       "9"
      ]
     },
     "execution_count": 43,
     "metadata": {},
     "output_type": "execute_result"
    }
   ],
   "source": [
    "add_str_nums(\"4\",\"5\")"
   ]
  },
  {
   "cell_type": "code",
   "execution_count": 44,
   "metadata": {},
   "outputs": [
    {
     "data": {
      "text/plain": [
       "1874682736267235927391936562808774986"
      ]
     },
     "execution_count": 44,
     "metadata": {},
     "output_type": "execute_result"
    }
   ],
   "source": [
    "add_str_nums(\"1874682736267235927359283579235789257\",\"32652983572985729\")"
   ]
  },
  {
   "cell_type": "code",
   "execution_count": 45,
   "metadata": {},
   "outputs": [
    {
     "data": {
      "text/plain": [
       "1"
      ]
     },
     "execution_count": 45,
     "metadata": {},
     "output_type": "execute_result"
    }
   ],
   "source": [
    "add_str_nums(1,\"\")"
   ]
  },
  {
   "cell_type": "code",
   "execution_count": null,
   "metadata": {},
   "outputs": [],
   "source": []
  }
 ],
 "metadata": {
  "kernelspec": {
   "display_name": "Python 3",
   "language": "python",
   "name": "python3"
  },
  "language_info": {
   "codemirror_mode": {
    "name": "ipython",
    "version": 3
   },
   "file_extension": ".py",
   "mimetype": "text/x-python",
   "name": "python",
   "nbconvert_exporter": "python",
   "pygments_lexer": "ipython3",
   "version": "3.8.3"
  }
 },
 "nbformat": 4,
 "nbformat_minor": 4
}
