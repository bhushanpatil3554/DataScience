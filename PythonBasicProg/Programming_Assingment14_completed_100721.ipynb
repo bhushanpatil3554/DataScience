{
 "cells": [
  {
   "cell_type": "raw",
   "metadata": {},
   "source": [
    "Question 1:\n",
    "\n",
    "Define a class with a generator which can iterate the numbers, which are divisible by 7, between a given range 0 and n.\n"
   ]
  },
  {
   "cell_type": "code",
   "execution_count": 5,
   "metadata": {},
   "outputs": [
    {
     "name": "stdout",
     "output_type": "stream",
     "text": [
      "Enter no100\n",
      "0\n",
      "7\n",
      "14\n",
      "21\n",
      "28\n",
      "35\n",
      "42\n",
      "49\n",
      "56\n",
      "63\n",
      "70\n",
      "77\n",
      "84\n",
      "91\n",
      "98\n"
     ]
    }
   ],
   "source": [
    "class iterator(object):\n",
    "    \"\"\"docstring for iterator\"\"\"\n",
    "    def __init__(self, n):\n",
    "        self.n = n\n",
    "    def divBySeven(self):\n",
    "        for i in range(0, self.n):\n",
    "            if i % 7 == 0:\n",
    "                yield i\n",
    "\n",
    "n = int(input(\"Enter no\"))\n",
    "for num in iterator(n).divBySeven():\n",
    "    print (num)"
   ]
  },
  {
   "cell_type": "raw",
   "metadata": {},
   "source": [
    "Question 2:\n",
    "Write a program to compute the frequency of the words from the input. The output should output after sorting the key alphanumerically. \n"
   ]
  },
  {
   "cell_type": "code",
   "execution_count": 8,
   "metadata": {},
   "outputs": [
    {
     "name": "stdout",
     "output_type": "stream",
     "text": [
      "Type in: New to Python or choosing between Python 2 and Python 3? Read Python 2 or Python 3\n",
      "[('2', 2), ('3', 1), ('3?', 1), ('New', 1), ('Python', 5), ('Read', 1), ('and', 1), ('between', 1), ('choosing', 1), ('or', 2), ('to', 1)]\n",
      "2 2\n",
      "3 1\n",
      "3? 1\n",
      "New 1\n",
      "Python 5\n",
      "Read 1\n",
      "and 1\n",
      "between 1\n",
      "choosing 1\n",
      "or 2\n",
      "to 1\n"
     ]
    }
   ],
   "source": [
    "import operator\n",
    "\n",
    "text_line = input(\"Type in: \")\n",
    "\n",
    "freq_dict = {}\n",
    "\n",
    "for i in text_line.split(' '):\n",
    "    \n",
    "        if i not in freq_dict:\n",
    "            freq_dict[i] = 1\n",
    "        elif i in freq_dict:\n",
    "            freq_dict[i] = freq_dict[i] + 1\n",
    "    \n",
    "sorted_freq_dict = sorted(freq_dict.items(), key = operator.itemgetter(0))\n",
    "print(sorted_freq_dict)\n",
    "\n",
    "for i in sorted_freq_dict:\n",
    "    print(i[0], i[1])"
   ]
  },
  {
   "cell_type": "raw",
   "metadata": {},
   "source": [
    "Question 3:\n",
    "\n",
    "Define a class Person and its two child classes: Male and Female.\n",
    "    All classes have a method \"getGender\" which can print \"Male\" for Male class and \"Female\" for Female class.\n"
   ]
  },
  {
   "cell_type": "code",
   "execution_count": 11,
   "metadata": {},
   "outputs": [
    {
     "name": "stdout",
     "output_type": "stream",
     "text": [
      "Female\n",
      "Male\n"
     ]
    }
   ],
   "source": [
    "class Person(object):\n",
    "    def __init__(self):\n",
    "        self.gender = \"unknown\"\n",
    "\n",
    "    def getGender(self):\n",
    "        print(self.gender)\n",
    "\n",
    "class Male(Person):\n",
    "    def __init__(self):\n",
    "        self.gender = \"Male\"\n",
    "\n",
    "class Female(Person):\n",
    "    def __init__(self):\n",
    "        self.gender = \"Female\"\n",
    "\n",
    "sharon = Female()\n",
    "doug = Male()\n",
    "sharon.getGender()\n",
    "doug.getGender()"
   ]
  },
  {
   "cell_type": "raw",
   "metadata": {},
   "source": [
    "Question 4:\n",
    "Please write a program to generate all sentences where subject is in [\"I\", \"You\"]\n",
    "and verb is in [\"Play\", \"Love\"] and the object is in [\"Hockey\",\"Football\"].\n"
   ]
  },
  {
   "cell_type": "code",
   "execution_count": 17,
   "metadata": {},
   "outputs": [
    {
     "name": "stdout",
     "output_type": "stream",
     "text": [
      "I Play Football.\n",
      "I Love Football.\n",
      "You Play Football.\n",
      "You Love Football.\n"
     ]
    }
   ],
   "source": [
    "subjects=[\"I\", \"You\"]\n",
    "verbs=[\"Play\", \"Love\"]\n",
    "objects=[\"Hockey\",\"Football\"]\n",
    "for i in range(len(subjects)):\n",
    "    for j in range(len(verbs)):\n",
    "        for k in range(len(objects)):\n",
    "            sentence = \"%s %s %s.\" % (subjects[i], verbs[j], objects[k])\n",
    "        print(sentence)"
   ]
  },
  {
   "cell_type": "raw",
   "metadata": {},
   "source": [
    "Question 5:\n",
    "Please write a program to compress and decompress the string \"hello world!hello world!hello world!hello world!\".\n"
   ]
  },
  {
   "cell_type": "code",
   "execution_count": 20,
   "metadata": {},
   "outputs": [
    {
     "name": "stdout",
     "output_type": "stream",
     "text": [
      "b'x\\x9c\\xcbH\\xcd\\xc9\\xc9W(\\xcf/\\xcaIQ\\xcc \\x82\\r\\x00\\xbd[\\x11\\xf5'\n",
      "b'hello world!hello world!hello world!hello world!'\n"
     ]
    }
   ],
   "source": [
    "import zlib \n",
    "s =b\"hello world!hello world!hello world!hello world!\"\n",
    "t = zlib.compress(s)\n",
    "print(t)\n",
    "print (zlib.decompress(t))"
   ]
  },
  {
   "cell_type": "raw",
   "metadata": {},
   "source": [
    "Question 6:\n",
    "Please write a binary search function which searches an item in a sorted list.\n",
    "The function should return the index of element to be searched in the list.\n"
   ]
  },
  {
   "cell_type": "code",
   "execution_count": 28,
   "metadata": {},
   "outputs": [
    {
     "name": "stdout",
     "output_type": "stream",
     "text": [
      "Element is present at index  3\n"
     ]
    }
   ],
   "source": [
    "def binarySearch (arr, l, r, x):\n",
    "  \n",
    "    # Check base case\n",
    "    if r >= l:\n",
    "  \n",
    "        mid = l + (r - l) // 2\n",
    "  \n",
    "        # If element is present at the middle itself\n",
    "        if arr[mid] == x:\n",
    "            return mid\n",
    "          \n",
    "        # If element is smaller than mid, then it \n",
    "        # can only be present in left subarray\n",
    "        elif arr[mid] > x:\n",
    "            return binarySearch(arr, l, mid-1, x)\n",
    "  \n",
    "        # Else the element can only be present \n",
    "        # in right subarray\n",
    "        else:\n",
    "            return binarySearch(arr, mid + 1, r, x)\n",
    "  \n",
    "    else:\n",
    "        # Element is not present in the array\n",
    "        return -1\n",
    "\n",
    "arr = [ 2, 3, 4, 10, 40 ]\n",
    "x = 10\n",
    "  \n",
    "# Function call\n",
    "result = binarySearch(arr, 0, len(arr)-1, x)\n",
    "  \n",
    "if result != -1:\n",
    "    print (\"Element is present at index % d\" % result)\n",
    "else:\n",
    "    print (\"Element is not present in array\")"
   ]
  },
  {
   "cell_type": "code",
   "execution_count": 26,
   "metadata": {},
   "outputs": [
    {
     "data": {
      "text/plain": [
       "5"
      ]
     },
     "execution_count": 26,
     "metadata": {},
     "output_type": "execute_result"
    }
   ],
   "source": [
    "5"
   ]
  },
  {
   "cell_type": "code",
   "execution_count": null,
   "metadata": {},
   "outputs": [],
   "source": []
  },
  {
   "cell_type": "code",
   "execution_count": null,
   "metadata": {},
   "outputs": [],
   "source": []
  }
 ],
 "metadata": {
  "kernelspec": {
   "display_name": "Python 3",
   "language": "python",
   "name": "python3"
  },
  "language_info": {
   "codemirror_mode": {
    "name": "ipython",
    "version": 3
   },
   "file_extension": ".py",
   "mimetype": "text/x-python",
   "name": "python",
   "nbconvert_exporter": "python",
   "pygments_lexer": "ipython3",
   "version": "3.8.5"
  }
 },
 "nbformat": 4,
 "nbformat_minor": 4
}
