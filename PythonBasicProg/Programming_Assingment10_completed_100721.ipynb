{
 "cells": [
  {
   "cell_type": "markdown",
   "metadata": {},
   "source": [
    "#### Write a Python program to find sum of elements in list?\n",
    "\n"
   ]
  },
  {
   "cell_type": "code",
   "execution_count": 11,
   "metadata": {},
   "outputs": [
    {
     "name": "stdout",
     "output_type": "stream",
     "text": [
      "sum of list  [1, 2, 3, 4]  is  10\n"
     ]
    }
   ],
   "source": [
    "def sumList(list):\n",
    "    sum=0\n",
    "    for i in list:\n",
    "        sum+=i\n",
    "        \n",
    "    return sum\n",
    "list = [1,2,3,4]\n",
    "print (\"sum of list \",list ,\" is \",sumList(list))"
   ]
  },
  {
   "cell_type": "markdown",
   "metadata": {},
   "source": [
    "#### Write a Python program to  Multiply all numbers in the list?\n"
   ]
  },
  {
   "cell_type": "code",
   "execution_count": 12,
   "metadata": {},
   "outputs": [
    {
     "name": "stdout",
     "output_type": "stream",
     "text": [
      "Multiply of list  [1, 2, 3, 4]  is  24\n"
     ]
    }
   ],
   "source": [
    "def mulList(list):\n",
    "    sum=1\n",
    "    for i in list:\n",
    "        sum*=i\n",
    "        \n",
    "    return sum\n",
    "list = [1,2,3,4]\n",
    "print (\"Multiply of list \",list ,\" is \",mulList(list))"
   ]
  },
  {
   "cell_type": "markdown",
   "metadata": {},
   "source": [
    "#### Write a Python program to find smallest number in a list?\n"
   ]
  },
  {
   "cell_type": "code",
   "execution_count": 13,
   "metadata": {},
   "outputs": [
    {
     "name": "stdout",
     "output_type": "stream",
     "text": [
      "min of list  [1, 2, 3, 4]  is  1\n"
     ]
    }
   ],
   "source": [
    "def minList(list):\n",
    "    min=list[0]\n",
    "    for i in list:\n",
    "        if(min > i):\n",
    "            min = i\n",
    "        \n",
    "    return min\n",
    "list = [1,2,3,4]\n",
    "print (\"min of list \",list ,\" is \",minList(list))"
   ]
  },
  {
   "cell_type": "markdown",
   "metadata": {},
   "source": [
    "#### Write a Python program to find largest number in a list?\n"
   ]
  },
  {
   "cell_type": "code",
   "execution_count": 14,
   "metadata": {},
   "outputs": [
    {
     "name": "stdout",
     "output_type": "stream",
     "text": [
      "max of list  [1, 2, 3, 4]  is  4\n"
     ]
    }
   ],
   "source": [
    "def maxList(list):\n",
    "    max=list[0]\n",
    "    for i in list:\n",
    "        if(max < i):\n",
    "            max = i\n",
    "        \n",
    "    return max\n",
    "list = [1,2,3,4]\n",
    "print (\"max of list \",list ,\" is \",maxList(list))"
   ]
  },
  {
   "cell_type": "markdown",
   "metadata": {},
   "source": [
    "#### Write a Python program to find second largest number in a list?\n"
   ]
  },
  {
   "cell_type": "code",
   "execution_count": 15,
   "metadata": {},
   "outputs": [
    {
     "name": "stdout",
     "output_type": "stream",
     "text": [
      "second largest is  4\n"
     ]
    }
   ],
   "source": [
    "list2 = [5,4,3,2,1]\n",
    "list2.sort()\n",
    "print(\"second largest is \",list2[len(list2)-2])"
   ]
  },
  {
   "cell_type": "code",
   "execution_count": null,
   "metadata": {},
   "outputs": [],
   "source": []
  },
  {
   "cell_type": "markdown",
   "metadata": {},
   "source": [
    "#### Write a Python program to find N largest elements from a list?\n"
   ]
  },
  {
   "cell_type": "code",
   "execution_count": 16,
   "metadata": {},
   "outputs": [
    {
     "name": "stdout",
     "output_type": "stream",
     "text": [
      "[85, 41]\n"
     ]
    }
   ],
   "source": [
    "def Nmaxelements(list1, N):\n",
    "    final_list = []\n",
    "  \n",
    "    for i in range(0, N): \n",
    "        max1 = 0\n",
    "          \n",
    "        for j in range(len(list1)):     \n",
    "            if list1[j] > max1:\n",
    "                max1 = list1[j];\n",
    "                  \n",
    "        list1.remove(max1);\n",
    "        final_list.append(max1)\n",
    "    print(final_list)\n",
    "    \n",
    "list1 = [2, 6, 41, 85, 0, 3, 7, 6, 10]\n",
    "N = 2\n",
    "  \n",
    "# Calling the function\n",
    "Nmaxelements(list1, N)"
   ]
  },
  {
   "cell_type": "markdown",
   "metadata": {},
   "source": [
    "#### Write a Python program to print even numbers in a list?\n"
   ]
  },
  {
   "cell_type": "code",
   "execution_count": 19,
   "metadata": {},
   "outputs": [
    {
     "name": "stdout",
     "output_type": "stream",
     "text": [
      "Event no in list  [2, 6, 0, 3, 7, 6, 10]  is  [2, 6, 0, 6, 10]\n"
     ]
    }
   ],
   "source": [
    "def evenNoInList(list):\n",
    "    temp=[]\n",
    "    for i in list:\n",
    "        if( i%2==0):\n",
    "            temp.append(i)\n",
    "    return temp\n",
    "print(\"Event no in list \",list1 , \" is \",evenNoInList(list1))"
   ]
  },
  {
   "cell_type": "markdown",
   "metadata": {},
   "source": [
    "#### Write a Python program to print odd numbers in a List?\n"
   ]
  },
  {
   "cell_type": "code",
   "execution_count": 20,
   "metadata": {},
   "outputs": [
    {
     "name": "stdout",
     "output_type": "stream",
     "text": [
      "Odd no in list  [2, 6, 0, 3, 7, 6, 10]  is  [3, 7]\n"
     ]
    }
   ],
   "source": [
    "def oddNoInList(list):\n",
    "    temp=[]\n",
    "    for i in list:\n",
    "        if( i%2!=0):\n",
    "            temp.append(i)\n",
    "    return temp\n",
    "print(\"Odd no in list \",list1 , \" is \",oddNoInList(list1))"
   ]
  },
  {
   "cell_type": "markdown",
   "metadata": {},
   "source": [
    "#### Write a Python program to Remove empty List from List?\n"
   ]
  },
  {
   "cell_type": "code",
   "execution_count": 21,
   "metadata": {},
   "outputs": [
    {
     "name": "stdout",
     "output_type": "stream",
     "text": [
      "The original list is : [5, 6, [], 3, [], [], 9]\n",
      "List after empty list removal : [5, 6, 3, 9]\n"
     ]
    }
   ],
   "source": [
    "test_list = [5, 6, [], 3, [], [], 9]\n",
    "  \n",
    "print(\"The original list is : \" + str(test_list))\n",
    "res = [ele for ele in test_list if ele != []]\n",
    "  \n",
    "print (\"List after empty list removal : \" + str(res))"
   ]
  },
  {
   "cell_type": "markdown",
   "metadata": {},
   "source": [
    "#### Write a Python program to Cloning or Copying a list?\n"
   ]
  },
  {
   "cell_type": "code",
   "execution_count": 22,
   "metadata": {},
   "outputs": [
    {
     "name": "stdout",
     "output_type": "stream",
     "text": [
      "Old list:  [1, 2, 3, 4]\n",
      "New coppied list:  [1, 2, 3, 4]\n"
     ]
    }
   ],
   "source": [
    "list1 = [1,2,3,4]\n",
    "print('Old list: ',list1)\n",
    "# Now we copy or clone list1 to list2\n",
    "list2 = list1[:]\n",
    "# Now we print cpied list2\n",
    "print('New coppied list: ',list2)"
   ]
  },
  {
   "cell_type": "markdown",
   "metadata": {},
   "source": [
    "#### Write a Python program to Count occurrences of an element in a list?"
   ]
  },
  {
   "cell_type": "code",
   "execution_count": 23,
   "metadata": {},
   "outputs": [
    {
     "data": {
      "text/plain": [
       "3"
      ]
     },
     "execution_count": 23,
     "metadata": {},
     "output_type": "execute_result"
    }
   ],
   "source": [
    "[1, 2, 3, 4, 1, 4, 1].count(1)"
   ]
  },
  {
   "cell_type": "code",
   "execution_count": null,
   "metadata": {},
   "outputs": [],
   "source": []
  }
 ],
 "metadata": {
  "kernelspec": {
   "display_name": "Python 3",
   "language": "python",
   "name": "python3"
  },
  "language_info": {
   "codemirror_mode": {
    "name": "ipython",
    "version": 3
   },
   "file_extension": ".py",
   "mimetype": "text/x-python",
   "name": "python",
   "nbconvert_exporter": "python",
   "pygments_lexer": "ipython3",
   "version": "3.8.5"
  }
 },
 "nbformat": 4,
 "nbformat_minor": 4
}
