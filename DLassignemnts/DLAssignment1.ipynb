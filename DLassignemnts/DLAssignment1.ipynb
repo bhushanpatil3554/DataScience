{
  "nbformat": 4,
  "nbformat_minor": 0,
  "metadata": {
    "colab": {
      "provenance": []
    },
    "kernelspec": {
      "name": "python3",
      "display_name": "Python 3"
    },
    "language_info": {
      "name": "python"
    }
  },
  "cells": [
    {
      "cell_type": "code",
      "execution_count": 1,
      "metadata": {
        "id": "8W16oZ_GmuHx"
      },
      "outputs": [],
      "source": [
        "import numpy as np\n",
        "from keras.models import Sequential\n",
        "from keras.layers import Dense"
      ]
    },
    {
      "cell_type": "code",
      "source": [
        "# Create the sequence of odd numbers\n",
        "sequence = [1, 3, 5, 7, 9, 11, 13, 15, 17, 19,21,23,25,27,29,31,33,35,37,39,41,43,45,47,49,51,53,55,57,59,61]"
      ],
      "metadata": {
        "id": "_Egvf__MmxSY"
      },
      "execution_count": 16,
      "outputs": []
    },
    {
      "cell_type": "code",
      "source": [
        "# Prepare the input and output data\n",
        "X = np.array(sequence[:-1])  # Input sequence (excluding the last number)\n",
        "y = np.array(sequence[1:])  # Output sequence (next number in the sequence)\n"
      ],
      "metadata": {
        "id": "X7CykVpfmxVN"
      },
      "execution_count": 17,
      "outputs": []
    },
    {
      "cell_type": "code",
      "source": [
        "y"
      ],
      "metadata": {
        "colab": {
          "base_uri": "https://localhost:8080/"
        },
        "id": "QJkly0wfm_Gv",
        "outputId": "c827fe65-313f-42d6-a507-bb67dc621626"
      },
      "execution_count": 18,
      "outputs": [
        {
          "output_type": "execute_result",
          "data": {
            "text/plain": [
              "array([ 3,  5,  7,  9, 11, 13, 15, 17, 19, 21, 23, 25, 27, 29, 31, 33, 35,\n",
              "       37, 39, 41, 43, 45, 47, 49, 51, 53, 55, 57, 59, 61])"
            ]
          },
          "metadata": {},
          "execution_count": 18
        }
      ]
    },
    {
      "cell_type": "code",
      "source": [
        "# Define the model\n",
        "model = Sequential()\n",
        "model.add(Dense(10, input_dim=1, activation='relu'))\n",
        "model.add(Dense(1, activation='linear'))"
      ],
      "metadata": {
        "id": "35IJ99rcmxYS"
      },
      "execution_count": 19,
      "outputs": []
    },
    {
      "cell_type": "code",
      "source": [
        "# Compile the model\n",
        "model.compile(loss='mean_squared_error', optimizer='adam')"
      ],
      "metadata": {
        "id": "6EPuIf51mxbq"
      },
      "execution_count": 20,
      "outputs": []
    },
    {
      "cell_type": "code",
      "source": [
        "# Train the model\n",
        "model.fit(X, y, epochs=100, batch_size=1)"
      ],
      "metadata": {
        "colab": {
          "base_uri": "https://localhost:8080/"
        },
        "id": "oYfLDakLm6O-",
        "outputId": "d260e9b7-e8f1-4e55-c7d3-5c86eefb6715"
      },
      "execution_count": 21,
      "outputs": [
        {
          "output_type": "stream",
          "name": "stdout",
          "text": [
            "Epoch 1/100\n",
            "30/30 [==============================] - 1s 2ms/step - loss: 1020.6758\n",
            "Epoch 2/100\n",
            "30/30 [==============================] - 0s 1ms/step - loss: 836.8094\n",
            "Epoch 3/100\n",
            "30/30 [==============================] - 0s 1ms/step - loss: 673.7444\n",
            "Epoch 4/100\n",
            "30/30 [==============================] - 0s 2ms/step - loss: 536.7481\n",
            "Epoch 5/100\n",
            "30/30 [==============================] - 0s 1ms/step - loss: 422.5301\n",
            "Epoch 6/100\n",
            "30/30 [==============================] - 0s 2ms/step - loss: 327.5437\n",
            "Epoch 7/100\n",
            "30/30 [==============================] - 0s 2ms/step - loss: 249.4334\n",
            "Epoch 8/100\n",
            "30/30 [==============================] - 0s 2ms/step - loss: 183.6662\n",
            "Epoch 9/100\n",
            "30/30 [==============================] - 0s 1ms/step - loss: 133.9710\n",
            "Epoch 10/100\n",
            "30/30 [==============================] - 0s 2ms/step - loss: 93.7584\n",
            "Epoch 11/100\n",
            "30/30 [==============================] - 0s 2ms/step - loss: 63.9267\n",
            "Epoch 12/100\n",
            "30/30 [==============================] - 0s 1ms/step - loss: 42.2024\n",
            "Epoch 13/100\n",
            "30/30 [==============================] - 0s 1ms/step - loss: 26.8457\n",
            "Epoch 14/100\n",
            "30/30 [==============================] - 0s 2ms/step - loss: 16.1651\n",
            "Epoch 15/100\n",
            "30/30 [==============================] - 0s 1ms/step - loss: 9.6054\n",
            "Epoch 16/100\n",
            "30/30 [==============================] - 0s 2ms/step - loss: 5.4854\n",
            "Epoch 17/100\n",
            "30/30 [==============================] - 0s 2ms/step - loss: 3.0995\n",
            "Epoch 18/100\n",
            "30/30 [==============================] - 0s 2ms/step - loss: 1.7485\n",
            "Epoch 19/100\n",
            "30/30 [==============================] - 0s 2ms/step - loss: 1.0170\n",
            "Epoch 20/100\n",
            "30/30 [==============================] - 0s 2ms/step - loss: 0.6478\n",
            "Epoch 21/100\n",
            "30/30 [==============================] - 0s 3ms/step - loss: 0.4715\n",
            "Epoch 22/100\n",
            "30/30 [==============================] - 0s 2ms/step - loss: 0.3850\n",
            "Epoch 23/100\n",
            "30/30 [==============================] - 0s 2ms/step - loss: 0.3473\n",
            "Epoch 24/100\n",
            "30/30 [==============================] - 0s 1ms/step - loss: 0.3281\n",
            "Epoch 25/100\n",
            "30/30 [==============================] - 0s 2ms/step - loss: 0.3210\n",
            "Epoch 26/100\n",
            "30/30 [==============================] - 0s 1ms/step - loss: 0.3168\n",
            "Epoch 27/100\n",
            "30/30 [==============================] - 0s 2ms/step - loss: 0.3136\n",
            "Epoch 28/100\n",
            "30/30 [==============================] - 0s 2ms/step - loss: 0.3128\n",
            "Epoch 29/100\n",
            "30/30 [==============================] - 0s 2ms/step - loss: 0.3103\n",
            "Epoch 30/100\n",
            "30/30 [==============================] - 0s 2ms/step - loss: 0.3084\n",
            "Epoch 31/100\n",
            "30/30 [==============================] - 0s 2ms/step - loss: 0.3072\n",
            "Epoch 32/100\n",
            "30/30 [==============================] - 0s 2ms/step - loss: 0.3049\n",
            "Epoch 33/100\n",
            "30/30 [==============================] - 0s 2ms/step - loss: 0.3052\n",
            "Epoch 34/100\n",
            "30/30 [==============================] - 0s 2ms/step - loss: 0.3014\n",
            "Epoch 35/100\n",
            "30/30 [==============================] - 0s 3ms/step - loss: 0.3005\n",
            "Epoch 36/100\n",
            "30/30 [==============================] - 0s 3ms/step - loss: 0.3009\n",
            "Epoch 37/100\n",
            "30/30 [==============================] - 0s 2ms/step - loss: 0.2959\n",
            "Epoch 38/100\n",
            "30/30 [==============================] - 0s 3ms/step - loss: 0.2950\n",
            "Epoch 39/100\n",
            "30/30 [==============================] - 0s 3ms/step - loss: 0.2922\n",
            "Epoch 40/100\n",
            "30/30 [==============================] - 0s 2ms/step - loss: 0.2903\n",
            "Epoch 41/100\n",
            "30/30 [==============================] - 0s 2ms/step - loss: 0.2875\n",
            "Epoch 42/100\n",
            "30/30 [==============================] - 0s 2ms/step - loss: 0.2868\n",
            "Epoch 43/100\n",
            "30/30 [==============================] - 0s 2ms/step - loss: 0.2840\n",
            "Epoch 44/100\n",
            "30/30 [==============================] - 0s 2ms/step - loss: 0.2811\n",
            "Epoch 45/100\n",
            "30/30 [==============================] - 0s 2ms/step - loss: 0.2789\n",
            "Epoch 46/100\n",
            "30/30 [==============================] - 0s 2ms/step - loss: 0.2780\n",
            "Epoch 47/100\n",
            "30/30 [==============================] - 0s 2ms/step - loss: 0.2757\n",
            "Epoch 48/100\n",
            "30/30 [==============================] - 0s 3ms/step - loss: 0.2731\n",
            "Epoch 49/100\n",
            "30/30 [==============================] - 0s 3ms/step - loss: 0.2715\n",
            "Epoch 50/100\n",
            "30/30 [==============================] - 0s 3ms/step - loss: 0.2709\n",
            "Epoch 51/100\n",
            "30/30 [==============================] - 0s 2ms/step - loss: 0.2666\n",
            "Epoch 52/100\n",
            "30/30 [==============================] - 0s 3ms/step - loss: 0.2673\n",
            "Epoch 53/100\n",
            "30/30 [==============================] - 0s 3ms/step - loss: 0.2622\n",
            "Epoch 54/100\n",
            "30/30 [==============================] - 0s 2ms/step - loss: 0.2593\n",
            "Epoch 55/100\n",
            "30/30 [==============================] - 0s 2ms/step - loss: 0.2571\n",
            "Epoch 56/100\n",
            "30/30 [==============================] - 0s 2ms/step - loss: 0.2546\n",
            "Epoch 57/100\n",
            "30/30 [==============================] - 0s 2ms/step - loss: 0.2523\n",
            "Epoch 58/100\n",
            "30/30 [==============================] - 0s 3ms/step - loss: 0.2509\n",
            "Epoch 59/100\n",
            "30/30 [==============================] - 0s 3ms/step - loss: 0.2477\n",
            "Epoch 60/100\n",
            "30/30 [==============================] - 0s 3ms/step - loss: 0.2445\n",
            "Epoch 61/100\n",
            "30/30 [==============================] - 0s 3ms/step - loss: 0.2430\n",
            "Epoch 62/100\n",
            "30/30 [==============================] - 0s 3ms/step - loss: 0.2412\n",
            "Epoch 63/100\n",
            "30/30 [==============================] - 0s 2ms/step - loss: 0.2377\n",
            "Epoch 64/100\n",
            "30/30 [==============================] - 0s 2ms/step - loss: 0.2358\n",
            "Epoch 65/100\n",
            "30/30 [==============================] - 0s 3ms/step - loss: 0.2334\n",
            "Epoch 66/100\n",
            "30/30 [==============================] - 0s 2ms/step - loss: 0.2291\n",
            "Epoch 67/100\n",
            "30/30 [==============================] - 0s 2ms/step - loss: 0.2268\n",
            "Epoch 68/100\n",
            "30/30 [==============================] - 0s 2ms/step - loss: 0.2263\n",
            "Epoch 69/100\n",
            "30/30 [==============================] - 0s 2ms/step - loss: 0.2230\n",
            "Epoch 70/100\n",
            "30/30 [==============================] - 0s 3ms/step - loss: 0.2192\n",
            "Epoch 71/100\n",
            "30/30 [==============================] - 0s 2ms/step - loss: 0.2159\n",
            "Epoch 72/100\n",
            "30/30 [==============================] - 0s 3ms/step - loss: 0.2138\n",
            "Epoch 73/100\n",
            "30/30 [==============================] - 0s 2ms/step - loss: 0.2131\n",
            "Epoch 74/100\n",
            "30/30 [==============================] - 0s 3ms/step - loss: 0.2109\n",
            "Epoch 75/100\n",
            "30/30 [==============================] - 0s 3ms/step - loss: 0.2065\n",
            "Epoch 76/100\n",
            "30/30 [==============================] - 0s 3ms/step - loss: 0.2029\n",
            "Epoch 77/100\n",
            "30/30 [==============================] - 0s 3ms/step - loss: 0.1999\n",
            "Epoch 78/100\n",
            "30/30 [==============================] - 0s 3ms/step - loss: 0.1984\n",
            "Epoch 79/100\n",
            "30/30 [==============================] - 0s 3ms/step - loss: 0.1942\n",
            "Epoch 80/100\n",
            "30/30 [==============================] - 0s 3ms/step - loss: 0.1933\n",
            "Epoch 81/100\n",
            "30/30 [==============================] - 0s 2ms/step - loss: 0.1921\n",
            "Epoch 82/100\n",
            "30/30 [==============================] - 0s 2ms/step - loss: 0.1873\n",
            "Epoch 83/100\n",
            "30/30 [==============================] - 0s 2ms/step - loss: 0.1854\n",
            "Epoch 84/100\n",
            "30/30 [==============================] - 0s 2ms/step - loss: 0.1809\n",
            "Epoch 85/100\n",
            "30/30 [==============================] - 0s 2ms/step - loss: 0.1790\n",
            "Epoch 86/100\n",
            "30/30 [==============================] - 0s 1ms/step - loss: 0.1763\n",
            "Epoch 87/100\n",
            "30/30 [==============================] - 0s 2ms/step - loss: 0.1749\n",
            "Epoch 88/100\n",
            "30/30 [==============================] - 0s 2ms/step - loss: 0.1696\n",
            "Epoch 89/100\n",
            "30/30 [==============================] - 0s 2ms/step - loss: 0.1682\n",
            "Epoch 90/100\n",
            "30/30 [==============================] - 0s 1ms/step - loss: 0.1639\n",
            "Epoch 91/100\n",
            "30/30 [==============================] - 0s 1ms/step - loss: 0.1614\n",
            "Epoch 92/100\n",
            "30/30 [==============================] - 0s 1ms/step - loss: 0.1587\n",
            "Epoch 93/100\n",
            "30/30 [==============================] - 0s 2ms/step - loss: 0.1569\n",
            "Epoch 94/100\n",
            "30/30 [==============================] - 0s 2ms/step - loss: 0.1540\n",
            "Epoch 95/100\n",
            "30/30 [==============================] - 0s 2ms/step - loss: 0.1537\n",
            "Epoch 96/100\n",
            "30/30 [==============================] - 0s 2ms/step - loss: 0.1483\n",
            "Epoch 97/100\n",
            "30/30 [==============================] - 0s 2ms/step - loss: 0.1465\n",
            "Epoch 98/100\n",
            "30/30 [==============================] - 0s 2ms/step - loss: 0.1427\n",
            "Epoch 99/100\n",
            "30/30 [==============================] - 0s 2ms/step - loss: 0.1393\n",
            "Epoch 100/100\n",
            "30/30 [==============================] - 0s 2ms/step - loss: 0.1368\n"
          ]
        },
        {
          "output_type": "execute_result",
          "data": {
            "text/plain": [
              "<keras.callbacks.History at 0x7f9d4835bb20>"
            ]
          },
          "metadata": {},
          "execution_count": 21
        }
      ]
    },
    {
      "cell_type": "code",
      "source": [
        "np.array([sequence[-2]])"
      ],
      "metadata": {
        "colab": {
          "base_uri": "https://localhost:8080/"
        },
        "id": "PEoTIwgHnb7w",
        "outputId": "d7abf1ec-7d9b-47a5-ad3c-5f304db6757e"
      },
      "execution_count": 22,
      "outputs": [
        {
          "output_type": "execute_result",
          "data": {
            "text/plain": [
              "array([59])"
            ]
          },
          "metadata": {},
          "execution_count": 22
        }
      ]
    },
    {
      "cell_type": "code",
      "source": [
        "np.array([14])"
      ],
      "metadata": {
        "colab": {
          "base_uri": "https://localhost:8080/"
        },
        "id": "ZD2V-Vron7fG",
        "outputId": "801f47e5-898c-42cb-f22f-99b5d012153e"
      },
      "execution_count": 13,
      "outputs": [
        {
          "output_type": "execute_result",
          "data": {
            "text/plain": [
              "array([14])"
            ]
          },
          "metadata": {},
          "execution_count": 13
        }
      ]
    },
    {
      "cell_type": "code",
      "source": [
        "# Generate the prediction\n",
        "next_number = model.predict(np.array([sequence[-2]]))\n",
        "print(\"Predicted next number:\", next_number)"
      ],
      "metadata": {
        "colab": {
          "base_uri": "https://localhost:8080/"
        },
        "id": "QDFJHDUVm6SC",
        "outputId": "596f74a1-06d4-4be2-921f-0462eec68ce7"
      },
      "execution_count": 23,
      "outputs": [
        {
          "output_type": "stream",
          "name": "stdout",
          "text": [
            "1/1 [==============================] - 0s 63ms/step\n",
            "Predicted next number: [[61.357357]]\n"
          ]
        }
      ]
    },
    {
      "cell_type": "code",
      "source": [],
      "metadata": {
        "id": "N7d-3bdwm6Yh"
      },
      "execution_count": null,
      "outputs": []
    }
  ]
}